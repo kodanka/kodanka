{
 "cells": [
  {
   "cell_type": "markdown",
   "metadata": {
    "colab_type": "text",
    "id": "y4ouSlpil9zh"
   },
   "source": [
    "# Grunder"
   ]
  },
  {
   "cell_type": "markdown",
   "metadata": {
    "colab_type": "text",
    "id": "iY2V66oOl9zj"
   },
   "source": [
    "|           |           |\n",
    "|:---------:|:---------:|\n",
    "| [Uppgift 1: Hello, World!](#Uppgift-1) | [Uppgift 2: Addition](#Uppgift-2) |"
   ]
  },
  {
   "cell_type": "markdown",
   "metadata": {
    "colab_type": "text",
    "id": "RPQOkFPYl9zo"
   },
   "source": [
    "## Skriva ut meningar"
   ]
  },
  {
   "cell_type": "code",
   "execution_count": 0,
   "metadata": {
    "colab": {},
    "colab_type": "code",
    "id": "YVKe4G6ql9zp",
    "outputId": "ee638f15-7ce8-4114-a03e-c9e86273400c"
   },
   "outputs": [
    {
     "name": "stdout",
     "output_type": "stream",
     "text": [
      "testing testing!\n"
     ]
    }
   ],
   "source": [
    "print(\"testing testing!\")"
   ]
  },
  {
   "cell_type": "code",
   "execution_count": 0,
   "metadata": {
    "colab": {},
    "colab_type": "code",
    "id": "KaE3CETxl9zt",
    "outputId": "f87fd439-436f-4e18-c94b-3b7433f18e3e"
   },
   "outputs": [
    {
     "name": "stdout",
     "output_type": "stream",
     "text": [
      "Se! Vad händer?\n"
     ]
    }
   ],
   "source": [
    "print(\"Se!\", \"Vad händer?\")"
   ]
  },
  {
   "cell_type": "markdown",
   "metadata": {
    "colab_type": "text",
    "id": "NaRg-Qv9l9zx"
   },
   "source": [
    "#### Uppgift 1"
   ]
  },
  {
   "cell_type": "markdown",
   "metadata": {
    "colab_type": "text",
    "id": "gNdjUnjfl9zy"
   },
   "source": [
    "<div class=\"alert alert-info\"> Hello, World!\n",
    "\n",
    "Få programmet att skriva ut\n",
    "\n",
    "`Hello, World!`\n",
    "\n",
    "[Det är ett klassiskt program att börja med.](https://sv.wikipedia.org/wiki/Hello_World)\n",
    "\n",
    "</div>"
   ]
  },
  {
   "cell_type": "markdown",
   "metadata": {
    "colab_type": "text",
    "id": "lPlgpB-Dl9zy"
   },
   "source": [
    "## Variabler"
   ]
  },
  {
   "cell_type": "code",
   "execution_count": 0,
   "metadata": {
    "colab": {},
    "colab_type": "code",
    "id": "Y1kvgt4El9zz"
   },
   "outputs": [],
   "source": [
    "a = 1"
   ]
  },
  {
   "cell_type": "markdown",
   "metadata": {
    "colab_type": "text",
    "id": "Y1AOFQtFl9z2"
   },
   "source": [
    "## Funktioner"
   ]
  },
  {
   "cell_type": "code",
   "execution_count": 0,
   "metadata": {
    "colab": {},
    "colab_type": "code",
    "id": "aCYpvDAEl9z2",
    "outputId": "745f8087-4808-45d5-c591-834894ee6528"
   },
   "outputs": [
    {
     "name": "stdout",
     "output_type": "stream",
     "text": [
      "Hej!\n"
     ]
    }
   ],
   "source": [
    "def skriv_hej():\n",
    "    print(\"Hej!\")\n",
    "\n",
    "skriv_hej()"
   ]
  },
  {
   "cell_type": "code",
   "execution_count": 0,
   "metadata": {
    "colab": {},
    "colab_type": "code",
    "id": "fcKb4Ti0l9z5",
    "outputId": "813c6eda-6c89-4b44-a2a8-c1e438afe81a"
   },
   "outputs": [
    {
     "name": "stdout",
     "output_type": "stream",
     "text": [
      "Hmm, intressant\n"
     ]
    }
   ],
   "source": [
    "def ge_mening():\n",
    "    return \"Hmm, intressant\"\n",
    "\n",
    "mening = ge_mening()\n",
    "\n",
    "print(mening)"
   ]
  },
  {
   "cell_type": "code",
   "execution_count": 0,
   "metadata": {
    "colab": {},
    "colab_type": "code",
    "id": "T8OsJF_pl9z9",
    "outputId": "fd3a9d7b-a7d3-4600-aad2-ba84ddc9c2b7"
   },
   "outputs": [
    {
     "name": "stdout",
     "output_type": "stream",
     "text": [
      "Var bestämd!\n"
     ]
    }
   ],
   "source": [
    "def addera_utropstecken(mening):\n",
    "    return mening + \"!\"\n",
    "\n",
    "kommando = addera_utropstecken(\"Var bestämd\")\n",
    "\n",
    "print(kommando)"
   ]
  },
  {
   "cell_type": "markdown",
   "metadata": {
    "colab_type": "text",
    "id": "ZnJlWyvWl90B"
   },
   "source": [
    "#### Uppgift 2"
   ]
  },
  {
   "cell_type": "markdown",
   "metadata": {
    "colab_type": "text",
    "id": "95_w5l6cl90B"
   },
   "source": [
    "<div class=\"alert alert-info\"> Addition\n",
    "\n",
    "Försök få additionsfunktionen att fungera:\n",
    "\n",
    "```\n",
    "def addera(a, b):\n",
    "    return ____\n",
    "\n",
    "summa = addera(3, 7)\n",
    "\n",
    "print(summa)\n",
    "```\n",
    "\n",
    "Programmet borde spotta ut `10` när `a = 3` och `b = 7`.\n",
    "\n",
    "</div>"
   ]
  },
  {
   "cell_type": "markdown",
   "metadata": {
    "colab_type": "text",
    "id": "axHMaCXkl90C"
   },
   "source": [
    "## Ge in variabler"
   ]
  },
  {
   "cell_type": "code",
   "execution_count": 0,
   "metadata": {
    "colab": {},
    "colab_type": "code",
    "id": "SLQAxkAgl90C",
    "outputId": "b2829503-3599-4703-ac09-bbb997ee0c0d"
   },
   "outputs": [
    {
     "name": "stdin",
     "output_type": "stream",
     "text": [
      "Vem där?  Kodare Ankan\n"
     ]
    },
    {
     "name": "stdout",
     "output_type": "stream",
     "text": [
      "Hej Kodare Ankan\n"
     ]
    }
   ],
   "source": [
    "namn = input(\"Vem där? \")\n",
    "print(\"Hej\", namn)"
   ]
  },
  {
   "cell_type": "markdown",
   "metadata": {
    "colab_type": "text",
    "id": "smXFKPVLl90F"
   },
   "source": [
    "#### <div class=\"alert alert-warning\">Första delen är avklarad när du har kommit så här långt! 🎉</div>"
   ]
  }
 ],
 "metadata": {
  "colab": {
   "name": "grunder.ipynb",
   "provenance": []
  },
  "kernelspec": {
   "display_name": "Python 3",
   "language": "python",
   "name": "python3"
  },
  "language_info": {
   "codemirror_mode": {
    "name": "ipython",
    "version": 3
   },
   "file_extension": ".py",
   "mimetype": "text/x-python",
   "name": "python",
   "nbconvert_exporter": "python",
   "pygments_lexer": "ipython3",
   "version": "3.7.4"
  }
 },
 "nbformat": 4,
 "nbformat_minor": 0
}
