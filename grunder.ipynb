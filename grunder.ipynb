{
  "nbformat": 4,
  "nbformat_minor": 0,
  "metadata": {
    "kernelspec": {
      "display_name": "Python 3",
      "language": "python",
      "name": "python3"
    },
    "language_info": {
      "codemirror_mode": {
        "name": "ipython",
        "version": 3
      },
      "file_extension": ".py",
      "mimetype": "text/x-python",
      "name": "python",
      "nbconvert_exporter": "python",
      "pygments_lexer": "ipython3",
      "version": "3.7.4"
    },
    "colab": {
      "name": "grunder.ipynb",
      "provenance": []
    }
  },
  "cells": [
    {
      "cell_type": "markdown",
      "metadata": {
        "id": "y4ouSlpil9zh",
        "colab_type": "text"
      },
      "source": [
        "# Grunder"
      ]
    },
    {
      "cell_type": "markdown",
      "metadata": {
        "id": "iY2V66oOl9zj",
        "colab_type": "text"
      },
      "source": [
        "|           |           |\n",
        "|:---------:|:---------:|\n",
        "| [Uppgift 1: Hello, World!](#Uppgift-1) | [Uppgift 2: Addition](#Uppgift-2) |"
      ]
    },
    {
      "cell_type": "markdown",
      "metadata": {
        "id": "RPQOkFPYl9zo",
        "colab_type": "text"
      },
      "source": [
        "## Skriva ut meningar"
      ]
    },
    {
      "cell_type": "code",
      "metadata": {
        "id": "YVKe4G6ql9zp",
        "colab_type": "code",
        "colab": {},
        "outputId": "ee638f15-7ce8-4114-a03e-c9e86273400c"
      },
      "source": [
        "print(\"testing testing!\")"
      ],
      "execution_count": 0,
      "outputs": [
        {
          "output_type": "stream",
          "text": [
            "testing testing!\n"
          ],
          "name": "stdout"
        }
      ]
    },
    {
      "cell_type": "code",
      "metadata": {
        "id": "KaE3CETxl9zt",
        "colab_type": "code",
        "colab": {},
        "outputId": "f87fd439-436f-4e18-c94b-3b7433f18e3e"
      },
      "source": [
        "print(\"Se!\", \"Vad händer?\")"
      ],
      "execution_count": 0,
      "outputs": [
        {
          "output_type": "stream",
          "text": [
            "Se! Vad händer?\n"
          ],
          "name": "stdout"
        }
      ]
    },
    {
      "cell_type": "markdown",
      "metadata": {
        "id": "NaRg-Qv9l9zx",
        "colab_type": "text"
      },
      "source": [
        "#### Uppgift 1"
      ]
    },
    {
      "cell_type": "markdown",
      "metadata": {
        "id": "gNdjUnjfl9zy",
        "colab_type": "text"
      },
      "source": [
        "<div class=\"alert alert-info\"> Hello, World!\n",
        "\n",
        "Få programmet att skriva ut\n",
        "\n",
        "`Hello, World!`\n",
        "\n",
        "[Det är ett klassiskt program att börja med.](https://sv.wikipedia.org/wiki/Hello_World)\n",
        "\n",
        "</div>"
      ]
    },
    {
      "cell_type": "markdown",
      "metadata": {
        "id": "lPlgpB-Dl9zy",
        "colab_type": "text"
      },
      "source": [
        "## Variabler"
      ]
    },
    {
      "cell_type": "code",
      "metadata": {
        "id": "Y1kvgt4El9zz",
        "colab_type": "code",
        "colab": {}
      },
      "source": [
        "a = 1"
      ],
      "execution_count": 0,
      "outputs": []
    },
    {
      "cell_type": "markdown",
      "metadata": {
        "id": "Y1AOFQtFl9z2",
        "colab_type": "text"
      },
      "source": [
        "## Funktioner"
      ]
    },
    {
      "cell_type": "code",
      "metadata": {
        "id": "aCYpvDAEl9z2",
        "colab_type": "code",
        "colab": {},
        "outputId": "745f8087-4808-45d5-c591-834894ee6528"
      },
      "source": [
        "def skriv_hej():\n",
        "    print(\"Hej!\")\n",
        "\n",
        "skriv_hej()"
      ],
      "execution_count": 0,
      "outputs": [
        {
          "output_type": "stream",
          "text": [
            "Hej!\n"
          ],
          "name": "stdout"
        }
      ]
    },
    {
      "cell_type": "code",
      "metadata": {
        "id": "fcKb4Ti0l9z5",
        "colab_type": "code",
        "colab": {},
        "outputId": "813c6eda-6c89-4b44-a2a8-c1e438afe81a"
      },
      "source": [
        "def ge_mening():\n",
        "    return \"Hmm, intressant\"\n",
        "\n",
        "mening = ge_mening()\n",
        "\n",
        "print(mening)"
      ],
      "execution_count": 0,
      "outputs": [
        {
          "output_type": "stream",
          "text": [
            "Hmm, intressant\n"
          ],
          "name": "stdout"
        }
      ]
    },
    {
      "cell_type": "code",
      "metadata": {
        "id": "T8OsJF_pl9z9",
        "colab_type": "code",
        "colab": {},
        "outputId": "fd3a9d7b-a7d3-4600-aad2-ba84ddc9c2b7"
      },
      "source": [
        "def addera_utropstecken(mening):\n",
        "    return mening + \"!\"\n",
        "\n",
        "kommando = addera_utropstecken(\"Var bestämd\")\n",
        "\n",
        "print(kommando)"
      ],
      "execution_count": 0,
      "outputs": [
        {
          "output_type": "stream",
          "text": [
            "Var bestämd!\n"
          ],
          "name": "stdout"
        }
      ]
    },
    {
      "cell_type": "markdown",
      "metadata": {
        "id": "ZnJlWyvWl90B",
        "colab_type": "text"
      },
      "source": [
        "#### Uppgift 2"
      ]
    },
    {
      "cell_type": "markdown",
      "metadata": {
        "id": "95_w5l6cl90B",
        "colab_type": "text"
      },
      "source": [
        "<div class=\"alert alert-info\"> Addition\n",
        "\n",
        "Försök få additionsfunktionen att fungera:\n",
        "\n",
        "```\n",
        "def addera(a, b):\n",
        "    return ____\n",
        "\n",
        "summa = addera(3, 7)\n",
        "\n",
        "print(summa)\n",
        "```\n",
        "\n",
        "Programmet borde spotta ut `10` när `a = 3` och `b = 7`.\n",
        "\n",
        "</div>"
      ]
    },
    {
      "cell_type": "markdown",
      "metadata": {
        "id": "axHMaCXkl90C",
        "colab_type": "text"
      },
      "source": [
        "## Ge in variabler"
      ]
    },
    {
      "cell_type": "code",
      "metadata": {
        "id": "SLQAxkAgl90C",
        "colab_type": "code",
        "colab": {},
        "outputId": "b2829503-3599-4703-ac09-bbb997ee0c0d"
      },
      "source": [
        "namn = input(\"Vem där? \")\n",
        "print(\"Hej\", namn)"
      ],
      "execution_count": 0,
      "outputs": [
        {
          "output_type": "stream",
          "text": [
            "Vem där?  Kodare Ankan\n"
          ],
          "name": "stdin"
        },
        {
          "output_type": "stream",
          "text": [
            "Hej Kodare Ankan\n"
          ],
          "name": "stdout"
        }
      ]
    },
    {
      "cell_type": "markdown",
      "metadata": {
        "id": "smXFKPVLl90F",
        "colab_type": "text"
      },
      "source": [
        "#### <div class=\"alert alert-warning\">Första delen är avklarad när du har kommit så här långt! 🎉</div>"
      ]
    }
  ]
}