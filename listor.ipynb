{
  "nbformat": 4,
  "nbformat_minor": 0,
  "metadata": {
    "colab": {
      "name": "6-listor.ipynb",
      "provenance": [],
      "collapsed_sections": []
    },
    "kernelspec": {
      "name": "python3",
      "display_name": "Python 3"
    }
  },
  "cells": [
    {
      "cell_type": "markdown",
      "metadata": {
        "id": "9oulwIb99qMz",
        "colab_type": "text"
      },
      "source": [
        "#Listor"
      ]
    },
    {
      "cell_type": "markdown",
      "metadata": {
        "id": "JJWEenCkDgNv",
        "colab_type": "text"
      },
      "source": [
        "Listan (list) är en av de mest användbara datastrukturerna i Python för att förvara värden av olika datatyper. I detta kapitel behandlas grunderna i andvändning av listor, och några av de vanligaste metoderna i anknytning till dem. Men först, kan du lista ut (höhö) vad följande program gör, och varför blir outputen 10? \n"
      ]
    },
    {
      "cell_type": "code",
      "metadata": {
        "id": "JFA4rZxkGN9J",
        "colab_type": "code",
        "outputId": "857af6bc-c432-47e0-b99b-5519c411a755",
        "colab": {
          "base_uri": "https://localhost:8080/",
          "height": 34
        }
      },
      "source": [
        "lista1 = [1, 2, 3, 4, 5]\n",
        "lista2 = [6, 7, 8, 9, 10]\n",
        "lista3 = lista1 + lista2\n",
        "\n",
        "print(lista3[2]+lista3[6])"
      ],
      "execution_count": 127,
      "outputs": [
        {
          "output_type": "stream",
          "text": [
            "10\n"
          ],
          "name": "stdout"
        }
      ]
    },
    {
      "cell_type": "markdown",
      "metadata": {
        "id": "C8cprOtBHlpw",
        "colab_type": "text"
      },
      "source": [
        "Listor är behändiga med tanke på att man kan förvara och manipulera data i dem. Låt oss till nästa skapa tre listor för att spara olika typer av data i dem:"
      ]
    },
    {
      "cell_type": "code",
      "metadata": {
        "id": "VqK-KeG99sVo",
        "colab_type": "code",
        "outputId": "8c15c540-ea99-48ea-e1fa-6ad68f6a14f9",
        "colab": {
          "base_uri": "https://localhost:8080/",
          "height": 68
        }
      },
      "source": [
        "ankor = ['Knatte', 'Fnatte', 'Tjatte']\n",
        "heltal = [0, 1, 2, 3, 4, 5, 6, 7, 8, 9]\n",
        "flyttal = [1.0, 2.0, 3.0]\n",
        "\n",
        "print(ankor)\n",
        "print(heltal)\n",
        "print(flyttal)"
      ],
      "execution_count": 128,
      "outputs": [
        {
          "output_type": "stream",
          "text": [
            "['Knatte', 'Fnatte', 'Tjatte']\n",
            "[0, 1, 2, 3, 4, 5, 6, 7, 8, 9]\n",
            "[1.0, 2.0, 3.0]\n"
          ],
          "name": "stdout"
        }
      ]
    },
    {
      "cell_type": "markdown",
      "metadata": {
        "id": "XkTBM4-_JIbn",
        "colab_type": "text"
      },
      "source": [
        "Listan `ankor` håller tre strängar, `heltal` håller tre heltal, och `flyttal` håller tre flyttal.\n",
        "\n",
        "En lista i Python kan också hålla blandat olika datatyper:\n"
      ]
    },
    {
      "cell_type": "code",
      "metadata": {
        "id": "lYiEYEmkD4RR",
        "colab_type": "code",
        "outputId": "a849e52b-a785-4854-eac5-c7930a35231d",
        "colab": {
          "base_uri": "https://localhost:8080/",
          "height": 34
        }
      },
      "source": [
        "blandat = ['Kalle', 313, 313.313]\n",
        "\n",
        "print(blandat)"
      ],
      "execution_count": 129,
      "outputs": [
        {
          "output_type": "stream",
          "text": [
            "['Kalle', 313, 313.313]\n"
          ],
          "name": "stdout"
        }
      ]
    },
    {
      "cell_type": "markdown",
      "metadata": {
        "id": "jU0wlF-lKuBc",
        "colab_type": "text"
      },
      "source": [
        "De enskilda värdena i listor kallas element. Varje element har en plats i listan vid ett specifikt index (ett heltal som anger platsen i ordning). Indexeringen i Python börjar från noll. Man kan komma åt specifika element i en lista med hjälp av indexeringen:"
      ]
    },
    {
      "cell_type": "code",
      "metadata": {
        "id": "6_y-sHu-LOZd",
        "colab_type": "code",
        "outputId": "e0f1a9c6-7872-455a-9fbd-aceebe9f711d",
        "colab": {
          "base_uri": "https://localhost:8080/",
          "height": 68
        }
      },
      "source": [
        "print(ankor[0])\n",
        "print(heltal[1])\n",
        "print(blandat[2])"
      ],
      "execution_count": 130,
      "outputs": [
        {
          "output_type": "stream",
          "text": [
            "Knatte\n",
            "1\n",
            "313.313\n"
          ],
          "name": "stdout"
        }
      ]
    },
    {
      "cell_type": "markdown",
      "metadata": {
        "id": "1c6syRajgPCj",
        "colab_type": "text"
      },
      "source": [
        "Man kan också komma åt element i ett viss interval med hjälp av så kallad \"slicing\":"
      ]
    },
    {
      "cell_type": "code",
      "metadata": {
        "id": "EW2bqL-bgVJ_",
        "colab_type": "code",
        "colab": {
          "base_uri": "https://localhost:8080/",
          "height": 34
        },
        "outputId": "19c881e8-84a2-4557-c4b5-1e9ac47aa86f"
      },
      "source": [
        "tretillfem = heltal[3:6]\n",
        "\n",
        "print(tretillfem)"
      ],
      "execution_count": 131,
      "outputs": [
        {
          "output_type": "stream",
          "text": [
            "[3, 4, 5]\n"
          ],
          "name": "stdout"
        }
      ]
    },
    {
      "cell_type": "markdown",
      "metadata": {
        "id": "77sLxjrxg4UZ",
        "colab_type": "text"
      },
      "source": [
        "Notera att intervallet som ges till \"slicen\" går från indexet du vill börja från, till indexet du vill sluta vid + 1.\n",
        "\n",
        "Längden av en lista kan fås på samma sätt som längden av strängar, d.v.s. med `len` funktionen:"
      ]
    },
    {
      "cell_type": "code",
      "metadata": {
        "id": "vr-lMdEXi8qQ",
        "colab_type": "code",
        "colab": {
          "base_uri": "https://localhost:8080/",
          "height": 68
        },
        "outputId": "2ba2554d-7e1a-4002-8741-f00b79bf0adc"
      },
      "source": [
        "print(len(ankor))\n",
        "print(len(heltal))\n",
        "print(len(blandat))"
      ],
      "execution_count": 132,
      "outputs": [
        {
          "output_type": "stream",
          "text": [
            "3\n",
            "10\n",
            "3\n"
          ],
          "name": "stdout"
        }
      ]
    },
    {
      "cell_type": "markdown",
      "metadata": {
        "id": "ZDVdRT8qxcEE",
        "colab_type": "text"
      },
      "source": [
        "Listor kan skapas som ovan, med färdiga värden, eller genom att skapa en tom lista som fylls senare. Vi skapar först en tom lista, och fyller den med hjälp av `append` metoden:"
      ]
    },
    {
      "cell_type": "code",
      "metadata": {
        "id": "YxpBcPLHxowz",
        "colab_type": "code",
        "outputId": "b650e96d-b0de-4e87-debf-e1732e232551",
        "colab": {
          "base_uri": "https://localhost:8080/",
          "height": 68
        }
      },
      "source": [
        "inkopslista = []\n",
        "print(inkopslista)\n",
        "\n",
        "inkopslista.append('banan')\n",
        "print(inkopslista)\n",
        "\n",
        "inkopslista.append('mjölk')\n",
        "inkopslista.append('Nyaste HBL')\n",
        "inkopslista.append('ägg')\n",
        "print(inkopslista)"
      ],
      "execution_count": 133,
      "outputs": [
        {
          "output_type": "stream",
          "text": [
            "[]\n",
            "['banan']\n",
            "['banan', 'mjölk', 'Nyaste HBL', 'ägg']\n"
          ],
          "name": "stdout"
        }
      ]
    },
    {
      "cell_type": "markdown",
      "metadata": {
        "id": "z8XElRePyi2H",
        "colab_type": "text"
      },
      "source": [
        "Sedan kan vi ta bort element från listan med t.ex. `pop` metoden:"
      ]
    },
    {
      "cell_type": "code",
      "metadata": {
        "id": "ctcGKvVFynKf",
        "colab_type": "code",
        "outputId": "81409a99-f40d-4dc1-a1b5-508f8ff8b082",
        "colab": {
          "base_uri": "https://localhost:8080/",
          "height": 34
        }
      },
      "source": [
        "inkopslista.pop(1)\n",
        "print(inkopslista)"
      ],
      "execution_count": 134,
      "outputs": [
        {
          "output_type": "stream",
          "text": [
            "['banan', 'Nyaste HBL', 'ägg']\n"
          ],
          "name": "stdout"
        }
      ]
    },
    {
      "cell_type": "markdown",
      "metadata": {
        "id": "QAKanpSUzMoB",
        "colab_type": "text"
      },
      "source": [
        "Notera att ovan när vi \"poppar\" index 1 tas det andra elementet bort (kom ihåg indexeringskonventionen!). Om `pop` metoden kallas utan ett index som argument kommer det sista elementet att tas bort:"
      ]
    },
    {
      "cell_type": "code",
      "metadata": {
        "id": "12TKdVPWedEW",
        "colab_type": "code",
        "colab": {
          "base_uri": "https://localhost:8080/",
          "height": 34
        },
        "outputId": "11d34b1c-1561-46ff-c788-4f531b2094ef"
      },
      "source": [
        "inkopslista.pop()\n",
        "print(inkopslista)"
      ],
      "execution_count": 135,
      "outputs": [
        {
          "output_type": "stream",
          "text": [
            "['banan', 'Nyaste HBL']\n"
          ],
          "name": "stdout"
        }
      ]
    },
    {
      "cell_type": "markdown",
      "metadata": {
        "id": "do7LhIrjfLVs",
        "colab_type": "text"
      },
      "source": [
        "Man kan också manipulera element i listor, och iterera över dem med t.ex. en `for loop`:"
      ]
    },
    {
      "cell_type": "code",
      "metadata": {
        "id": "5Ttpbmk8hQFC",
        "colab_type": "code",
        "colab": {
          "base_uri": "https://localhost:8080/",
          "height": 102
        },
        "outputId": "859cf1e7-eca8-47ee-9cd6-88c48aa73f73"
      },
      "source": [
        "print('Gammal inköpslista:',inkopslista)\n",
        "\n",
        "inkopslista[1] = 'Nyaste Kalle Ankan'\n",
        "\n",
        "print('Ny inköpslista:', inkopslista)\n",
        "\n",
        "\n",
        "print('\\nGamla heltal:', heltal)\n",
        "\n",
        "for i in range(len(heltal)):\n",
        "  heltal[i] += 100\n",
        "\n",
        "print('Nya heltal:', heltal)"
      ],
      "execution_count": 136,
      "outputs": [
        {
          "output_type": "stream",
          "text": [
            "Gammal inköpslista: ['banan', 'Nyaste HBL']\n",
            "Ny inköpslista: ['banan', 'Nyaste Kalle Ankan']\n",
            "\n",
            "Gamla heltal: [0, 1, 2, 3, 4, 5, 6, 7, 8, 9]\n",
            "Nya heltal: [100, 101, 102, 103, 104, 105, 106, 107, 108, 109]\n"
          ],
          "name": "stdout"
        }
      ]
    },
    {
      "cell_type": "markdown",
      "metadata": {
        "id": "f4eE9cLljuh5",
        "colab_type": "text"
      },
      "source": [
        "####Övning 1"
      ]
    },
    {
      "cell_type": "markdown",
      "metadata": {
        "id": "OUTZBUdRkJGq",
        "colab_type": "text"
      },
      "source": [
        "####Övning 2"
      ]
    },
    {
      "cell_type": "markdown",
      "metadata": {
        "id": "-FCUxyDokLdE",
        "colab_type": "text"
      },
      "source": [
        "####Övning 3"
      ]
    }
  ]
}