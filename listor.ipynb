{
  "nbformat": 4,
  "nbformat_minor": 0,
  "metadata": {
    "colab": {
      "name": "6-listor.ipynb",
      "provenance": [],
      "collapsed_sections": []
    },
    "kernelspec": {
      "name": "python3",
      "display_name": "Python 3"
    }
  },
  "cells": [
    {
      "cell_type": "markdown",
      "metadata": {
        "id": "9oulwIb99qMz",
        "colab_type": "text"
      },
      "source": [
        "#Listor"
      ]
    },
    {
      "cell_type": "markdown",
      "metadata": {
        "id": "JJWEenCkDgNv",
        "colab_type": "text"
      },
      "source": [
        "Listan (list) är en av de mest användbara datastrukturerna i Python för att förvara värden av olika datatyper. I detta kapitel behandlas grunderna i andvändning av listor, och några av de vanligaste metoderna i anknytning till dem. Men först, kan du lista ut (höhö) vad följande program gör, och varför blir outputen \"tvåtre\"? "
      ]
    },
    {
      "cell_type": "code",
      "metadata": {
        "id": "54BGk_IKK_zl",
        "colab_type": "code",
        "colab": {
          "base_uri": "https://localhost:8080/",
          "height": 34
        },
        "outputId": "f6e166f3-21cc-4255-c0da-2520a0d7e113"
      },
      "source": [
        "lista = ['ett', 'två', 'tre']\n",
        "lista[1] + lista[2]"
      ],
      "execution_count": null,
      "outputs": [
        {
          "output_type": "execute_result",
          "data": {
            "text/plain": [
              "'tvåtre'"
            ]
          },
          "metadata": {
            "tags": []
          },
          "execution_count": 1
        }
      ]
    },
    {
      "cell_type": "markdown",
      "metadata": {
        "id": "nKzN_r0ClkBc",
        "colab_type": "text"
      },
      "source": [
        "##Datatyper i listor"
      ]
    },
    {
      "cell_type": "markdown",
      "metadata": {
        "id": "C8cprOtBHlpw",
        "colab_type": "text"
      },
      "source": [
        "Listor är behändiga med tanke på att man kan förvara och manipulera data i dem. Låt oss till nästa skapa tre listor för att spara olika typer av data i dem:"
      ]
    },
    {
      "cell_type": "code",
      "metadata": {
        "id": "VqK-KeG99sVo",
        "colab_type": "code",
        "colab": {
          "base_uri": "https://localhost:8080/",
          "height": 68
        },
        "outputId": "b033d935-45ae-4af7-ef8f-e912a37ad548"
      },
      "source": [
        "ankor = ['Knatte', 'Fnatte', 'Tjatte']\n",
        "heltal = [0, 1, 2, 3, 4, 5, 6, 7, 8, 9]\n",
        "flyttal = [1.0, 2.0, 3.0]\n",
        "\n",
        "print(ankor)\n",
        "print(heltal)\n",
        "print(flyttal)"
      ],
      "execution_count": null,
      "outputs": [
        {
          "output_type": "stream",
          "text": [
            "['Knatte', 'Fnatte', 'Tjatte']\n",
            "[0, 1, 2, 3, 4, 5, 6, 7, 8, 9]\n",
            "[1.0, 2.0, 3.0]\n"
          ],
          "name": "stdout"
        }
      ]
    },
    {
      "cell_type": "markdown",
      "metadata": {
        "id": "XkTBM4-_JIbn",
        "colab_type": "text"
      },
      "source": [
        "Listan `ankor` håller tre strängar, `heltal` håller tre heltal, och `flyttal` håller tre flyttal.\n",
        "\n",
        "En lista i Python kan också hålla blandat olika datatyper:\n"
      ]
    },
    {
      "cell_type": "code",
      "metadata": {
        "id": "lYiEYEmkD4RR",
        "colab_type": "code",
        "colab": {
          "base_uri": "https://localhost:8080/",
          "height": 34
        },
        "outputId": "e31c25bb-7de2-494f-f633-4856ccaca80b"
      },
      "source": [
        "blandat = ['Kalle', 313, 313.313]\n",
        "\n",
        "print(blandat)"
      ],
      "execution_count": null,
      "outputs": [
        {
          "output_type": "stream",
          "text": [
            "['Kalle', 313, 313.313]\n"
          ],
          "name": "stdout"
        }
      ]
    },
    {
      "cell_type": "markdown",
      "metadata": {
        "id": "qcxCCKTHlqr2",
        "colab_type": "text"
      },
      "source": [
        "##Element och index"
      ]
    },
    {
      "cell_type": "markdown",
      "metadata": {
        "id": "jU0wlF-lKuBc",
        "colab_type": "text"
      },
      "source": [
        "De enskilda värdena i listor kallas element. Varje element har en plats i listan vid ett specifikt index (ett heltal som anger platsen i ordning). Indexeringen i Python börjar från noll. Man kan komma åt specifika element i en lista med hjälp av indexeringen:"
      ]
    },
    {
      "cell_type": "code",
      "metadata": {
        "id": "6_y-sHu-LOZd",
        "colab_type": "code",
        "colab": {
          "base_uri": "https://localhost:8080/",
          "height": 68
        },
        "outputId": "4e4cb67e-1b60-4c61-9193-7b0f99903078"
      },
      "source": [
        "print(ankor[0])\n",
        "print(heltal[1])\n",
        "print(blandat[2])"
      ],
      "execution_count": null,
      "outputs": [
        {
          "output_type": "stream",
          "text": [
            "Knatte\n",
            "1\n",
            "313.313\n"
          ],
          "name": "stdout"
        }
      ]
    },
    {
      "cell_type": "markdown",
      "metadata": {
        "id": "77sLxjrxg4UZ",
        "colab_type": "text"
      },
      "source": [
        "Längden av en lista kan fås på samma sätt som längden av strängar, d.v.s. med `len` funktionen:"
      ]
    },
    {
      "cell_type": "code",
      "metadata": {
        "id": "vr-lMdEXi8qQ",
        "colab_type": "code",
        "colab": {
          "base_uri": "https://localhost:8080/",
          "height": 68
        },
        "outputId": "c23130c6-6742-4e27-b56d-328d13e41a4f"
      },
      "source": [
        "print(len(ankor))\n",
        "print(len(heltal))\n",
        "print(len(blandat))"
      ],
      "execution_count": null,
      "outputs": [
        {
          "output_type": "stream",
          "text": [
            "3\n",
            "10\n",
            "3\n"
          ],
          "name": "stdout"
        }
      ]
    },
    {
      "cell_type": "markdown",
      "metadata": {
        "id": "R2oJRPbGPSP3",
        "colab_type": "text"
      },
      "source": [
        "##`append`, `pop` och `remove`"
      ]
    },
    {
      "cell_type": "markdown",
      "metadata": {
        "id": "ZDVdRT8qxcEE",
        "colab_type": "text"
      },
      "source": [
        "Vi skapar först en tom lista, och fyller den med hjälp av `append` metoden:"
      ]
    },
    {
      "cell_type": "code",
      "metadata": {
        "id": "YxpBcPLHxowz",
        "colab_type": "code",
        "colab": {
          "base_uri": "https://localhost:8080/",
          "height": 68
        },
        "outputId": "9930e3b3-b554-4f3e-dce9-fcee95ed0c53"
      },
      "source": [
        "inkopslista = []\n",
        "print(inkopslista)\n",
        "\n",
        "inkopslista.append('banan')\n",
        "print(inkopslista)\n",
        "\n",
        "inkopslista.append('mjölk')\n",
        "inkopslista.append('Nyaste HBL')\n",
        "inkopslista.append('ägg')\n",
        "print(inkopslista)"
      ],
      "execution_count": null,
      "outputs": [
        {
          "output_type": "stream",
          "text": [
            "[]\n",
            "['banan']\n",
            "['banan', 'mjölk', 'Nyaste HBL', 'ägg']\n"
          ],
          "name": "stdout"
        }
      ]
    },
    {
      "cell_type": "markdown",
      "metadata": {
        "id": "z8XElRePyi2H",
        "colab_type": "text"
      },
      "source": [
        "Sedan kan vi ta bort element från listan med t.ex. `pop` metoden:"
      ]
    },
    {
      "cell_type": "code",
      "metadata": {
        "id": "ctcGKvVFynKf",
        "colab_type": "code",
        "colab": {
          "base_uri": "https://localhost:8080/",
          "height": 34
        },
        "outputId": "f76641f0-9681-4c4a-b8e3-a47bfc136856"
      },
      "source": [
        "inkopslista.pop(1)\n",
        "print(inkopslista)"
      ],
      "execution_count": null,
      "outputs": [
        {
          "output_type": "stream",
          "text": [
            "['banan', 'Nyaste HBL', 'ägg']\n"
          ],
          "name": "stdout"
        }
      ]
    },
    {
      "cell_type": "markdown",
      "metadata": {
        "id": "QAKanpSUzMoB",
        "colab_type": "text"
      },
      "source": [
        "Notera att ovan när vi \"poppar\" index 1 tas det andra elementet bort (kom ihåg indexeringskonventionen!). Om `pop` metoden kallas utan ett index som argument kommer det sista elementet att tas bort:"
      ]
    },
    {
      "cell_type": "code",
      "metadata": {
        "id": "12TKdVPWedEW",
        "colab_type": "code",
        "colab": {
          "base_uri": "https://localhost:8080/",
          "height": 34
        },
        "outputId": "1fa610dc-6446-480f-cfd9-bdf7a9383033"
      },
      "source": [
        "inkopslista.pop()\n",
        "print(inkopslista)"
      ],
      "execution_count": null,
      "outputs": [
        {
          "output_type": "stream",
          "text": [
            "['banan', 'Nyaste HBL']\n"
          ],
          "name": "stdout"
        }
      ]
    },
    {
      "cell_type": "markdown",
      "metadata": {
        "id": "Ul-K3xROC2Wv",
        "colab_type": "text"
      },
      "source": [
        "Vi kan också ta bort element från listan med att ge namnet på elementet med `remove` metoden, t.ex.:"
      ]
    },
    {
      "cell_type": "code",
      "metadata": {
        "id": "XmA0PqFcC8ah",
        "colab_type": "code",
        "colab": {
          "base_uri": "https://localhost:8080/",
          "height": 51
        },
        "outputId": "55810086-7ed2-4dfd-d435-2ee3d9e8e30c"
      },
      "source": [
        "print(inkopslista)\n",
        "inkopslista.remove('banan')\n",
        "print(inkopslista)"
      ],
      "execution_count": null,
      "outputs": [
        {
          "output_type": "stream",
          "text": [
            "['banan', 'Nyaste HBL']\n",
            "['Nyaste HBL']\n"
          ],
          "name": "stdout"
        }
      ]
    },
    {
      "cell_type": "markdown",
      "metadata": {
        "id": "0-G7JM2uDNWo",
        "colab_type": "text"
      },
      "source": [
        "Men notera att `remove` metoden tar endast bort det första elementet den stöter på med motsvarande argument:"
      ]
    },
    {
      "cell_type": "code",
      "metadata": {
        "id": "Db1oVV2bDZ7F",
        "colab_type": "code",
        "colab": {
          "base_uri": "https://localhost:8080/",
          "height": 51
        },
        "outputId": "a9d5a694-51b4-4655-9d7d-94ee44575345"
      },
      "source": [
        "inkopslista.append('äpple')\n",
        "inkopslista.append('citron')\n",
        "inkopslista.append('äpple')\n",
        "\n",
        "print(inkopslista)\n",
        "inkopslista.remove('äpple')\n",
        "print(inkopslista)"
      ],
      "execution_count": null,
      "outputs": [
        {
          "output_type": "stream",
          "text": [
            "['Nyaste HBL', 'äpple', 'citron', 'äpple']\n",
            "['Nyaste HBL', 'citron', 'äpple']\n"
          ],
          "name": "stdout"
        }
      ]
    },
    {
      "cell_type": "markdown",
      "metadata": {
        "id": "vnzh8P6HD3dY",
        "colab_type": "text"
      },
      "source": [
        "## Iterering över listor"
      ]
    },
    {
      "cell_type": "markdown",
      "metadata": {
        "id": "do7LhIrjfLVs",
        "colab_type": "text"
      },
      "source": [
        "Man kan också manipulera element i listor, och iterera över dem med t.ex. en `for loop`:"
      ]
    },
    {
      "cell_type": "code",
      "metadata": {
        "id": "5Ttpbmk8hQFC",
        "colab_type": "code",
        "colab": {
          "base_uri": "https://localhost:8080/",
          "height": 102
        },
        "outputId": "918229a1-2f05-409c-c4e9-23a0bdfb5eba"
      },
      "source": [
        "print('Gammal inköpslista:',inkopslista)\n",
        "inkopslista[0] = 'Nyaste Kalle Ankan'\n",
        "print('Ny inköpslista:', inkopslista)\n",
        "\n",
        "print('\\nGamla heltal:', heltal)\n",
        "for i in range(len(heltal)):\n",
        "  heltal[i] += 100\n",
        "print('Nya heltal:', heltal)"
      ],
      "execution_count": null,
      "outputs": [
        {
          "output_type": "stream",
          "text": [
            "Gammal inköpslista: ['Nyaste HBL', 'citron', 'äpple']\n",
            "Ny inköpslista: ['Nyaste Kalle Ankan', 'citron', 'äpple']\n",
            "\n",
            "Gamla heltal: [0, 1, 2, 3, 4, 5, 6, 7, 8, 9]\n",
            "Nya heltal: [100, 101, 102, 103, 104, 105, 106, 107, 108, 109]\n"
          ],
          "name": "stdout"
        }
      ]
    },
    {
      "cell_type": "markdown",
      "metadata": {
        "id": "SqlK6UqGCbXm",
        "colab_type": "text"
      },
      "source": [
        "Man kan också iterera över listor utan att kalla på element vid specifika index:"
      ]
    },
    {
      "cell_type": "code",
      "metadata": {
        "id": "hOY1p9WZW3kv",
        "colab_type": "code",
        "colab": {
          "base_uri": "https://localhost:8080/",
          "height": 68
        },
        "outputId": "50712004-d400-42af-9305-24280bc9e755"
      },
      "source": [
        "for inkop in inkopslista:\n",
        "  print(inkop)"
      ],
      "execution_count": null,
      "outputs": [
        {
          "output_type": "stream",
          "text": [
            "Nyaste Kalle Ankan\n",
            "citron\n",
            "äpple\n"
          ],
          "name": "stdout"
        }
      ]
    },
    {
      "cell_type": "markdown",
      "metadata": {
        "id": "n3nNceHuW9_C",
        "colab_type": "text"
      },
      "source": [
        "`enumerate()` metoden är särskildt användbar om man vill iterera över element utan att kalla dem vid deras index, men också vill hålla reda på iterationsindexet:"
      ]
    },
    {
      "cell_type": "code",
      "metadata": {
        "id": "i30CVK6GXOFg",
        "colab_type": "code",
        "colab": {
          "base_uri": "https://localhost:8080/",
          "height": 85
        },
        "outputId": "695f48fc-dc6a-422e-8b73-31c540870347"
      },
      "source": [
        "livsskeden = ['🥚', '🐣' , '🐤' , '🦆']\n",
        "for i, anka in enumerate(livsskeden):\n",
        "  print(i, ':', anka)"
      ],
      "execution_count": null,
      "outputs": [
        {
          "output_type": "stream",
          "text": [
            "0 : 🥚\n",
            "1 : 🐣\n",
            "2 : 🐤\n",
            "3 : 🦆\n"
          ],
          "name": "stdout"
        }
      ]
    },
    {
      "cell_type": "markdown",
      "metadata": {
        "colab_type": "text",
        "id": "SslolA3EY9H1"
      },
      "source": [
        "## `min`, `max` och medelvärde\n"
      ]
    },
    {
      "cell_type": "markdown",
      "metadata": {
        "colab_type": "text",
        "id": "52raBih1Y9H3"
      },
      "source": [
        "Det är ofta bra att få reda på det minsta-, största- och medelvärdet av sin lista. Python har färdigt implementerat `min()` och `max()` funktionerna för att returnera det minsta, repsektive det största värdet av en mängd. Dessa funktioner kan ta som argument många värden av antingen heltal eller flyttal, t.ex. i formen av en lista."
      ]
    },
    {
      "cell_type": "code",
      "metadata": {
        "id": "V16ugMDGaRzW",
        "colab_type": "code",
        "colab": {
          "base_uri": "https://localhost:8080/",
          "height": 68
        },
        "outputId": "ee0bb77a-39b3-4195-f1c5-e8bafc75dcc2"
      },
      "source": [
        "flyttal = [2.0, 5.0, 10.0, 3.0, 24.0, 10.0, 11.0]\n",
        "print(\"flyttalen:\", flyttal)\n",
        "print(\"Minsta:\", min(flyttal))\n",
        "print(\"Största:\", max(flyttal))"
      ],
      "execution_count": null,
      "outputs": [
        {
          "output_type": "stream",
          "text": [
            "flyttalen: [2.0, 5.0, 10.0, 3.0, 24.0, 10.0, 11.0]\n",
            "Minsta: 2.0\n",
            "Största: 24.0\n"
          ],
          "name": "stdout"
        }
      ]
    },
    {
      "cell_type": "markdown",
      "metadata": {
        "colab_type": "text",
        "id": "9vb2do4vY9H5"
      },
      "source": [
        "\n",
        "Medelvärdet av en lista kan man lätt räkna ut t.ex. som följer:"
      ]
    },
    {
      "cell_type": "code",
      "metadata": {
        "colab_type": "code",
        "id": "OweFVP9MY9H6",
        "colab": {
          "base_uri": "https://localhost:8080/",
          "height": 68
        },
        "outputId": "460ce684-f8b9-4669-de70-a28bfc01a642"
      },
      "source": [
        "summa = 0\n",
        "for tal in flyttal:\n",
        "  summa += tal\n",
        "\n",
        "langd = len(flyttal)\n",
        "medelvarde = summa/langd\n",
        "\n",
        "print(\"summa:\", summa)\n",
        "print(\"listans längd:\", langd)\n",
        "print(\"medelvärde:\", medelvarde)"
      ],
      "execution_count": null,
      "outputs": [
        {
          "output_type": "stream",
          "text": [
            "summa: 65.0\n",
            "listans längd: 7\n",
            "medelvärde: 9.285714285714286\n"
          ],
          "name": "stdout"
        }
      ]
    },
    {
      "cell_type": "markdown",
      "metadata": {
        "colab_type": "text",
        "id": "iI3YwKyzY9IC"
      },
      "source": [
        "I exemplet ovan fyller vi en lista kallad `flyttal` med sju stycken godtyckliga flyttal. Sedan skapar vi en variabel med namnet `summa` som är i början noll. Vi adderar till `summa` variablen varje flyttal i listan, med hjälp av en `for loop`. Denna summa är sedan delad med längden av listan (`len(flyttal)`) för att få medelvärdet."
      ]
    },
    {
      "cell_type": "markdown",
      "metadata": {
        "id": "axhGdAiaCZ1T",
        "colab_type": "text"
      },
      "source": [
        "###Övningar"
      ]
    },
    {
      "cell_type": "markdown",
      "metadata": {
        "id": "f4eE9cLljuh5",
        "colab_type": "text"
      },
      "source": [
        "####Övning 1\n",
        "\n",
        "Skapa en lista med heltalen 0-19, t.ex. så här:\n",
        "\n",
        "```python\n",
        "heltal = []\n",
        "for i in range(20):\n",
        "  heltal.append(i)\n",
        "```\n",
        "\n",
        "\n",
        "Spjälk sedan upp denna lista i två nya listor: En med alla jämna heltal, och en annan med alla udda heltal. Skriv ut alla listor för att se att programmet fungerar. Resultatet borde se ut så här:\n",
        "\n",
        "```\n",
        "Heltal: [0, 1, 2, 3, 4, 5, 6, 7, 8, 9, 10, 11, 12, 13, 14, 15, 16, 17, 18, 19]\n",
        "Jämna: [0, 2, 4, 6, 8, 10, 12, 14, 16, 18]\n",
        "Udda: [1, 3, 5, 7, 9, 11, 13, 15, 17, 19]\n",
        "```\n",
        "\n",
        "Tips: Använd dig av indexeringen och iterering av listor. "
      ]
    },
    {
      "cell_type": "markdown",
      "metadata": {
        "id": "IroqecI8N1lT",
        "colab_type": "text"
      },
      "source": [
        "#### Övning 2\n",
        "\n",
        "Högsta uppmätta temperaturen under dagarna 24.5-22.6 år 2020 var som följer:\n",
        "\n",
        "```python\n",
        "temperatur = [13.0 16.2 16.7 17.4 15.7 15.8 18.5 17.1 13.7 14.3 15.8 16.4 13.8 15.2 16.5 18.7 17.0 21.7 20.0 19.9 19.5 20.7 21.6 23.2 21.7 21.2 24.4 22.5 18.9 20.4]\n",
        "```\n",
        "\n",
        "Kopiera denna lista till din kod och ge följande information: Det minsta värdet, det högsta värdet, samt medeltalet av temperaturerna. "
      ]
    },
    {
      "cell_type": "markdown",
      "metadata": {
        "id": "OUTZBUdRkJGq",
        "colab_type": "text"
      },
      "source": [
        "####Övning 3\n",
        "\n",
        "Skriv ett program som skapar en inköpslista. Programmet skall ha tre funktionaliteter: Att lägga till produkter, ta bort produkter samt att printa ut produkterna som en lista.\n",
        "\n",
        "Programmet skall fungera så här när du kör det:\n",
        "\n",
        "```\n",
        "Ge kommando: lägg till\n",
        "lägg till produkt: ägg\n",
        "Ge kommando: lägg till\n",
        "lägg till produkt: mjölk\n",
        "Ge kommando: lista\n",
        "['ägg', 'mjölk']\n",
        "Ge kommando: ta bort\n",
        "ta bort produkt: mjölk\n",
        "Ge kommando: lista\n",
        "['ägg']\n",
        "Ge kommando: sluta\n",
        "```\n",
        "\n",
        "Notera att allt efter \":\" är användarens input!\n",
        "\n",
        "Tips: `while` loopen och `input` funktionen från tidigare är nyttiga här."
      ]
    },
    {
      "cell_type": "markdown",
      "metadata": {
        "id": "-FCUxyDokLdE",
        "colab_type": "text"
      },
      "source": [
        "####Övning 4\n",
        "\n",
        "Fortsätt utveckla på programmet i föregående övning genom att lägga till en funktionalitet för att räkna ut priset för inköpen.\n",
        "\n",
        "Programmet skall fungera så här när du kör det:\n",
        "\n",
        "```\n",
        "Ge kommando: lägg till\n",
        "lägg till produkt: ägg \n",
        "produktens pris (€): 1.25\n",
        "Ge kommando: lägg till\n",
        "lägg till produkt: olivolja \n",
        "produktens pris (€): 5.99\n",
        "Ge kommando: lista\n",
        "['ägg', 'olivolja']\n",
        "Ge kommando: pris\n",
        "totala summan: 7.24 €\n",
        "Ge kommando: sluta\n",
        "```\n",
        "\n",
        "Notera här också att allt efter \":\" är användarens input!"
      ]
    }
  ]
}