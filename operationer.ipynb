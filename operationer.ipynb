{
 "cells": [
  {
   "cell_type": "markdown",
   "metadata": {
    "colab_type": "text",
    "id": "gqw8WnQvYtgz"
   },
   "source": [
    "#Inledning\n",
    "I det här kapitlet kommer du att lära dig hur man kan använda Python som en kalkylator, och vad som menas med en \"sträng\" inom programmering (det är alltså någonting annat än en gitarrsträng). Innan vi börjar, lyckas du lista ut vad följande program gör, och varför dess output är talet 8?"
   ]
  },
  {
   "cell_type": "code",
   "execution_count": 1,
   "metadata": {
    "colab": {
     "base_uri": "https://localhost:8080/",
     "height": 34
    },
    "colab_type": "code",
    "id": "VwI243fDZ3XP",
    "outputId": "e742cd40-085e-49eb-fb1c-5a227fca93b0"
   },
   "outputs": [
    {
     "name": "stdout",
     "output_type": "stream",
     "text": [
      "8\n"
     ]
    }
   ],
   "source": [
    "a = 2\n",
    "b = 5\n",
    "c = b-a\n",
    "print(a**c)"
   ]
  },
  {
   "cell_type": "markdown",
   "metadata": {
    "colab_type": "text",
    "id": "gYq26ZBiZNpf"
   },
   "source": [
    "#Tal och räkneoperationer\n",
    "I Python är det enkelt att göra olika beräkningar. Du kan använda de fyra räknesätten med hjälp av kommandona\n",
    "\n",
    "addition: `+`\n",
    "\n",
    "subtraktion: `-`\n",
    "\n",
    "multiplikation: `*`\n",
    "\n",
    "division: `/`\n",
    "\n",
    "Du kan utföra beräkningar i din egen programtolk. Python utför beräkningen då du trycker `Enter`. Du kan redigera följande exempel och köra dem genom att trycka `Ctrl+Enter`."
   ]
  },
  {
   "cell_type": "code",
   "execution_count": 2,
   "metadata": {
    "colab": {
     "base_uri": "https://localhost:8080/",
     "height": 34
    },
    "colab_type": "code",
    "id": "vZXS3vWmZYQF",
    "outputId": "f0841733-40d0-4d35-82ec-11a46821ba1b"
   },
   "outputs": [
    {
     "data": {
      "text/plain": [
       "420"
      ]
     },
     "execution_count": 2,
     "metadata": {},
     "output_type": "execute_result"
    }
   ],
   "source": [
    "400 + 20"
   ]
  },
  {
   "cell_type": "code",
   "execution_count": 3,
   "metadata": {
    "colab": {
     "base_uri": "https://localhost:8080/",
     "height": 34
    },
    "colab_type": "code",
    "id": "9gf9pNg9f_IY",
    "outputId": "328b79c3-4a67-4f41-eedf-6b5ca286f3a1"
   },
   "outputs": [
    {
     "data": {
      "text/plain": [
       "-4"
      ]
     },
     "execution_count": 3,
     "metadata": {},
     "output_type": "execute_result"
    }
   ],
   "source": [
    "5 - 9"
   ]
  },
  {
   "cell_type": "code",
   "execution_count": 4,
   "metadata": {
    "colab": {
     "base_uri": "https://localhost:8080/",
     "height": 34
    },
    "colab_type": "code",
    "id": "Qh-ssewygC1p",
    "outputId": "9c199a1d-8bba-43da-b0be-5e44eb97da71"
   },
   "outputs": [
    {
     "data": {
      "text/plain": [
       "540.0"
      ]
     },
     "execution_count": 4,
     "metadata": {},
     "output_type": "execute_result"
    }
   ],
   "source": [
    "5.4 * 100"
   ]
  },
  {
   "cell_type": "code",
   "execution_count": 5,
   "metadata": {
    "colab": {
     "base_uri": "https://localhost:8080/",
     "height": 34
    },
    "colab_type": "code",
    "id": "Qpbi4o6GgJCd",
    "outputId": "48dd0c0d-d432-4bf0-aff6-ffdc69b06d45"
   },
   "outputs": [
    {
     "data": {
      "text/plain": [
       "3.5"
      ]
     },
     "execution_count": 5,
     "metadata": {},
     "output_type": "execute_result"
    }
   ],
   "source": [
    "7 / 2"
   ]
  },
  {
   "cell_type": "markdown",
   "metadata": {
    "colab_type": "text",
    "id": "AZ9pOrcO_yU2"
   },
   "source": [
    "Python är dessutom så finurligt att multiplikation `*` och division `/` beräknas först, från vänster till höger, och sedan addition `+` och subtraktion `-` från vänster till höger. Om du exempelvis vill beräkna en addition före en multiplikation, kan du använda dig av parenteser `()`. Precis som i den riktiga världen!"
   ]
  },
  {
   "cell_type": "code",
   "execution_count": 6,
   "metadata": {
    "colab": {
     "base_uri": "https://localhost:8080/",
     "height": 34
    },
    "colab_type": "code",
    "id": "vQ94IH_lAqlX",
    "outputId": "e22fc7dc-a96e-401e-9d29-40bd764f2b3e"
   },
   "outputs": [
    {
     "data": {
      "text/plain": [
       "13"
      ]
     },
     "execution_count": 6,
     "metadata": {},
     "output_type": "execute_result"
    }
   ],
   "source": [
    "5 + 2 * 4"
   ]
  },
  {
   "cell_type": "code",
   "execution_count": 7,
   "metadata": {
    "colab": {
     "base_uri": "https://localhost:8080/",
     "height": 34
    },
    "colab_type": "code",
    "id": "6chOY4E-BNlk",
    "outputId": "2baf9807-bf5e-4f45-c292-458983502e6c"
   },
   "outputs": [
    {
     "data": {
      "text/plain": [
       "28"
      ]
     },
     "execution_count": 7,
     "metadata": {},
     "output_type": "execute_result"
    }
   ],
   "source": [
    "(5 + 2) * 4"
   ]
  },
  {
   "cell_type": "markdown",
   "metadata": {
    "colab_type": "text",
    "id": "r90PRbo7h9kI"
   },
   "source": [
    "Vi kollar till följande på ett par andra räkneoperationer i Python. En potens $a^b$ kan beräknas med kommandot `a**b`. Om man vill avrunda sin kvot ner till närmaste heltal kan man istället för `/` använda `//`. Python har dessutom en inbyggd operator som beräknar resten efter division av två tal. Koda smart, inte flitigt!"
   ]
  },
  {
   "cell_type": "code",
   "execution_count": 8,
   "metadata": {
    "colab": {
     "base_uri": "https://localhost:8080/",
     "height": 34
    },
    "colab_type": "code",
    "id": "3kSYMLmDscuA",
    "outputId": "ea2e2899-ea45-4f28-909e-d5790e40082e"
   },
   "outputs": [
    {
     "data": {
      "text/plain": [
       "32"
      ]
     },
     "execution_count": 8,
     "metadata": {},
     "output_type": "execute_result"
    }
   ],
   "source": [
    "2**5 #Beräknar 2^5."
   ]
  },
  {
   "cell_type": "code",
   "execution_count": 9,
   "metadata": {
    "colab": {
     "base_uri": "https://localhost:8080/",
     "height": 34
    },
    "colab_type": "code",
    "id": "MCIlvKGMFowd",
    "outputId": "53bdd106-1739-43bd-e24a-42cb1be4d962"
   },
   "outputs": [
    {
     "data": {
      "text/plain": [
       "8"
      ]
     },
     "execution_count": 9,
     "metadata": {},
     "output_type": "execute_result"
    }
   ],
   "source": [
    "83 // 10 #Beräknar hur många hela gånger talet 10 går i talet 83."
   ]
  },
  {
   "cell_type": "code",
   "execution_count": 10,
   "metadata": {
    "colab": {
     "base_uri": "https://localhost:8080/",
     "height": 34
    },
    "colab_type": "code",
    "id": "WTqeE5OkGtVd",
    "outputId": "607b62f1-8ce2-4f03-b9ab-dbe4e69828a3"
   },
   "outputs": [
    {
     "data": {
      "text/plain": [
       "3"
      ]
     },
     "execution_count": 10,
     "metadata": {},
     "output_type": "execute_result"
    }
   ],
   "source": [
    "28 % 5 #Beräknar resttermen efter att har dividerat 28 med 5. Borde bli 3 eller hur?"
   ]
  },
  {
   "cell_type": "markdown",
   "metadata": {
    "colab_type": "text",
    "id": "KsHmKO8qZY9G"
   },
   "source": [
    "#Strängar\n",
    "Vi glömmer talen för en stund och undersöker det som inom programmering kallas för [strängar](https://sv.wikipedia.org/wiki/Str%C3%A4ng_(data)) (engelska: [string](https://en.wikipedia.org/wiki/String_(computer_science))). En sträng inom programmering är en _följd av tecken_. En sträng kan alltså vara ett ord, en mening eller vilken annan som helst kombination av olika symboler. I Python markerar vi en sträng genom att omringa den med antingen enkla citattecken `'sträng'`. Låt oss göra någonting vilt och addera två strängar som om de vore tal!"
   ]
  },
  {
   "cell_type": "code",
   "execution_count": 11,
   "metadata": {
    "colab": {
     "base_uri": "https://localhost:8080/",
     "height": 34
    },
    "colab_type": "code",
    "id": "ZP4HHMQbKWkl",
    "outputId": "b8ff3576-f1b7-4c94-ca89-50d53948573c"
   },
   "outputs": [
    {
     "data": {
      "text/plain": [
       "'kodanka'"
      ]
     },
     "execution_count": 11,
     "metadata": {},
     "output_type": "execute_result"
    }
   ],
   "source": [
    "'kod' + 'anka'"
   ]
  },
  {
   "cell_type": "markdown",
   "metadata": {
    "colab_type": "text",
    "id": "viwcughFKwrn"
   },
   "source": [
    "Då man adderar två strängar flyter de alltså ihop till en sträng. Kolla vad som händer då man multiplicerar ett tal med en sträng!"
   ]
  },
  {
   "cell_type": "code",
   "execution_count": 12,
   "metadata": {
    "colab": {
     "base_uri": "https://localhost:8080/",
     "height": 34
    },
    "colab_type": "code",
    "id": "Pz6eWjhALjwI",
    "outputId": "f8f4703b-0164-4a70-bc35-8ea17c7b409b"
   },
   "outputs": [
    {
     "data": {
      "text/plain": [
       "'na na na na na na na na Batman!'"
      ]
     },
     "execution_count": 12,
     "metadata": {},
     "output_type": "execute_result"
    }
   ],
   "source": [
    "8 * 'na ' + 'Batman!'"
   ]
  },
  {
   "cell_type": "markdown",
   "metadata": {
    "colab_type": "text",
    "id": "2WKt6OhfKL-g"
   },
   "source": [
    "Undrar vad som händer om vi multiplicerar två strängar med varandra..."
   ]
  },
  {
   "cell_type": "code",
   "execution_count": 13,
   "metadata": {
    "colab": {
     "base_uri": "https://localhost:8080/",
     "height": 163
    },
    "colab_type": "code",
    "id": "Spqn17XOJvAI",
    "outputId": "6f223e3e-a36c-433e-f8c6-25fb042795be"
   },
   "outputs": [
    {
     "ename": "TypeError",
     "evalue": "can't multiply sequence by non-int of type 'str'",
     "output_type": "error",
     "traceback": [
      "\u001b[0;31m---------------------------------------------------------------------------\u001b[0m",
      "\u001b[0;31mTypeError\u001b[0m                                 Traceback (most recent call last)",
      "\u001b[0;32m<ipython-input-13-79b1d4b75ef6>\u001b[0m in \u001b[0;36m<module>\u001b[0;34m\u001b[0m\n\u001b[0;32m----> 1\u001b[0;31m \u001b[0;34m'gitarrsträng_1'\u001b[0m \u001b[0;34m*\u001b[0m \u001b[0;34m'gitarrsträng_2'\u001b[0m\u001b[0;34m\u001b[0m\u001b[0;34m\u001b[0m\u001b[0m\n\u001b[0m",
      "\u001b[0;31mTypeError\u001b[0m: can't multiply sequence by non-int of type 'str'"
     ]
    }
   ],
   "source": [
    "'gitarrsträng_1' * 'gitarrsträng_2'"
   ]
  },
  {
   "cell_type": "markdown",
   "metadata": {
    "colab_type": "text",
    "id": "fRcq6EBrKwmm"
   },
   "source": [
    "Äsch! Programtolken säger att man inte kan multiplicera två strängar med varandra. :("
   ]
  },
  {
   "cell_type": "markdown",
   "metadata": {
    "colab_type": "text",
    "id": "nCLRqwZeC4fx"
   },
   "source": [
    "##Speciella symboler\n",
    "En del symboler och tecken har en speciell betydelse i strängar. Om man vill byta rad mitt i en sträng kan man göra det med kommandot `\\n`."
   ]
  },
  {
   "cell_type": "code",
   "execution_count": 14,
   "metadata": {
    "colab": {
     "base_uri": "https://localhost:8080/",
     "height": 51
    },
    "colab_type": "code",
    "id": "gboW7xlsDnDK",
    "outputId": "a9544dac-c41c-4841-ac97-95dc902a5a9b"
   },
   "outputs": [
    {
     "name": "stdout",
     "output_type": "stream",
     "text": [
      "Den här texten står på första raden.\n",
      "Den här texten står på andra raden.\n"
     ]
    }
   ],
   "source": [
    "print('Den här texten står på första raden.\\nDen här texten står på andra raden.')"
   ]
  },
  {
   "cell_type": "markdown",
   "metadata": {
    "colab_type": "text",
    "id": "aIe_859mEIU6"
   },
   "source": [
    "En annan speciell symbol, vilket du kanske redan tänkt ut, är citattecknet `'` eftersom Python använder dessa tecken för att känna igen strängar.\n",
    "\n",
    "Låt oss nu säga att vi vill att programmets output är\n",
    "```python\n",
    "Den superhemliga filen finns i mappen \"C:\\Users\\Ducks\\Kodare_Anka\".\n",
    "```\n",
    "Här finns alltså ett problem: Strängen vi vill skriva ut innehåller symbolen  `\\` som är speciell. Vi kan undvika detta genom att framför symbolen lägga till symbolen `\\`. Vi kan alltså lösa problemet ovanför med följande kod."
   ]
  },
  {
   "cell_type": "code",
   "execution_count": 15,
   "metadata": {
    "colab": {
     "base_uri": "https://localhost:8080/",
     "height": 34
    },
    "colab_type": "code",
    "id": "pdWZVvBvPZ3p",
    "outputId": "40fe590d-d0a6-48f7-d0aa-11a63fdd0a40"
   },
   "outputs": [
    {
     "name": "stdout",
     "output_type": "stream",
     "text": [
      "Den superhemliga filen finns i mappen \"C:\\Users\\Ducks\\Kodare_Anka\".\n"
     ]
    }
   ],
   "source": [
    "print('Den superhemliga filen finns i mappen \"C:\\\\Users\\\\Ducks\\\\Kodare_Anka\".')"
   ]
  },
  {
   "cell_type": "markdown",
   "metadata": {
    "colab_type": "text",
    "id": "GnDj5eS9Mc3t"
   },
   "source": [
    "#Variabler\n",
    "Slut på det roliga. En viktig term inom programmering är [variabel](https://sv.wikipedia.org/wiki/Variabel). Det finns många olika typer av variabler, och du har redan bekantat dig med två sådana: tal och strängar. Senare i kursen kommer du att få lära dig använda flera variabeltyper.\n",
    "\n",
    "**Observera** att i många programmeringsspråk är heltal (integers) och decimaltal (floats) olika variabeltyper. Detta beror på att de olika talen lagras i datorns minne på olika sätt. I Python behöver du inte oroa dig över detta, utan du kan behandla heltal och decimaltal på som om de vore av samma variabeltyp!\n",
    "\n",
    "I Python kan du definiera variabler på följande sätt.\n",
    "```python\n",
    "namn = 'Kodare Anka'\n",
    "ålder = 42\n",
    "```\n",
    "Här har vi definierat strängen `namn` som tilldelats värdet `'Kodare Anka'` och talet `ålder` som tilldelats värdet `42`. Då man har definierat en variabel kan man använda dess värde genom att _kalla_ på variabeln."
   ]
  },
  {
   "cell_type": "code",
   "execution_count": 16,
   "metadata": {
    "colab": {
     "base_uri": "https://localhost:8080/",
     "height": 34
    },
    "colab_type": "code",
    "id": "t1nWX-fHEaqF",
    "outputId": "1f8d0706-a832-440b-f4a6-579700b3a3c8"
   },
   "outputs": [
    {
     "name": "stdout",
     "output_type": "stream",
     "text": [
      "Morjens, jag heter Kodare Anka och jag är 42 år gammal.\n"
     ]
    }
   ],
   "source": [
    "namn = 'Kodare Anka'\n",
    "ålder = 42\n",
    "print('Morjens, jag heter', namn, 'och jag är', ålder, 'år gammal.')"
   ]
  },
  {
   "cell_type": "code",
   "execution_count": 17,
   "metadata": {
    "colab": {
     "base_uri": "https://localhost:8080/",
     "height": 34
    },
    "colab_type": "code",
    "id": "CZtnaaH2Gajz",
    "outputId": "f2f963a9-724b-4c6d-ad38-4d58a18623b2"
   },
   "outputs": [
    {
     "name": "stdout",
     "output_type": "stream",
     "text": [
      "42\n"
     ]
    }
   ],
   "source": [
    "a = 6\n",
    "b = 7\n",
    "c = a * b\n",
    "print(c)"
   ]
  },
  {
   "cell_type": "markdown",
   "metadata": {
    "colab_type": "text",
    "id": "J1_utVJlFQWQ"
   },
   "source": [
    "En superviktig egenskap är att man kan tilldela en variabel ett nytt värde. Observera vad som händer med variabeln `b` i följande kod."
   ]
  },
  {
   "cell_type": "code",
   "execution_count": 18,
   "metadata": {
    "colab": {
     "base_uri": "https://localhost:8080/",
     "height": 51
    },
    "colab_type": "code",
    "id": "lw-9c5FGHIXS",
    "outputId": "c9ae0d1f-0c28-4c15-c171-80372d611d7f"
   },
   "outputs": [
    {
     "name": "stdout",
     "output_type": "stream",
     "text": [
      "b är först: Ja!\n",
      "b är sedan: Ja!\n"
     ]
    }
   ],
   "source": [
    "a = 'Ja!'\n",
    "b = a\n",
    "print('b är först:', b)\n",
    "a = 'Nej...'\n",
    "print('b är sedan:', b)"
   ]
  },
  {
   "cell_type": "markdown",
   "metadata": {
    "colab_type": "text",
    "id": "ncL29_uZH8kS"
   },
   "source": [
    "Variabeln `b` tilldelades samma värde som variabeln `a`, vilket var `'Ja!'`. Trots att värdet på `a` ändrades till `'Nej...'` påverkade det inte variabeln `b`."
   ]
  },
  {
   "cell_type": "markdown",
   "metadata": {
    "colab_type": "text",
    "id": "-1sbNgxILXHS"
   },
   "source": [
    "#Övningar\n",
    "Du kan göra följande övningar antingen i programtolken i din egen Python-editerare, eller i programtolken som finns längst ner.\n",
    "\n",
    "####Övning 1\n",
    "Använd Python för att ta reda på vilken av talen $3^4$ och $4^3$ som är större.\n",
    "\n",
    "####Övning 2\n",
    "Skriv en kod vars output är den vackra vågen\n",
    "```python\n",
    "_/~\\_/~\\_/~\\_/~\\_/~\\_/~\\_/~\\_/~\\_/~\\_/~\\_/~\\_/~\\_\n",
    "```\n",
    "så att din kod består av mindre än 30 symboler.\n",
    "\n",
    "####Övning 3\n",
    "Fundera på hur du kan beräkna resten efter division mellan två tal `a` och `b`, utan att använda operatorn `%`. Du får alltså endast använda operatorerna `+`, `-`, `*`, `/` och `//`."
   ]
  },
  {
   "cell_type": "code",
   "execution_count": 19,
   "metadata": {
    "colab": {},
    "colab_type": "code",
    "id": "KMj_Qohe-w4M"
   },
   "outputs": [],
   "source": [
    "#Du kan göra övningarna genom att skriva din kod här."
   ]
  }
 ],
 "metadata": {
  "colab": {
   "name": "operationer.ipynb"
  },
  "kernelspec": {
   "display_name": "Python 3",
   "name": "python3"
  },
  "language_info": {
   "codemirror_mode": {
    "name": "ipython",
    "version": 3
   },
   "file_extension": ".py",
   "mimetype": "text/x-python",
   "name": "python",
   "nbconvert_exporter": "python",
   "pygments_lexer": "ipython3",
   "version": "3.6.10"
  }
 },
 "nbformat": 4,
 "nbformat_minor": 0
}
