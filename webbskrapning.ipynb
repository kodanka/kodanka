{
 "cells": [
  {
   "cell_type": "markdown",
   "metadata": {
    "colab_type": "text",
    "id": "lEmZq7xGJ-0k"
   },
   "source": [
    "# Webbskrapning"
   ]
  },
  {
   "cell_type": "markdown",
   "metadata": {
    "colab_type": "text",
    "id": "71AbFAH9KUJo"
   },
   "source": [
    "Webbskrapning (_eng. web scraping_) går ut på att hämta information från sidor på nätet\n",
    "\n",
    "Motiveringar:\n",
    "\n",
    "- När data du behöver inte finns färdigt samlad\n",
    "- Forskningssyfte för att skaffa information\n",
    "- Kommersiellt syfte för att automatisera marknadsföring eller analysera kunders val på nätet\n",
    "\n",
    "Lagligt?\n",
    "\n",
    "Allmänt tillgänglig data\n",
    "\n",
    "- Användaren har gjort datan offentlig\n",
    "- Det krävs inget konto för att nå datan\n",
    "- Sidan är inte blockerad av en `robots.txt` fil, exempelvis Yle har en sådan https://yle.fi/robots.txt. Vi tar och ser vad den innehåller:"
   ]
  },
  {
   "cell_type": "code",
   "execution_count": 1,
   "metadata": {
    "tags": []
   },
   "outputs": [
    {
     "ename": "NameError",
     "evalue": "name 'sida' is not defined",
     "output_type": "error",
     "traceback": [
      "\u001b[0;31m---------------------------------------------------------------------------\u001b[0m",
      "\u001b[0;31mNameError\u001b[0m                                 Traceback (most recent call last)",
      "\u001b[0;32m<ipython-input-1-6cb3879ca2bb>\u001b[0m in \u001b[0;36m<module>\u001b[0;34m\u001b[0m\n\u001b[1;32m      2\u001b[0m \u001b[0;34m\u001b[0m\u001b[0m\n\u001b[1;32m      3\u001b[0m \u001b[0mrobots\u001b[0m \u001b[0;34m=\u001b[0m \u001b[0mrequests\u001b[0m\u001b[0;34m.\u001b[0m\u001b[0mget\u001b[0m\u001b[0;34m(\u001b[0m\u001b[0;34m'https://yle.fi/robots.txt'\u001b[0m\u001b[0;34m)\u001b[0m\u001b[0;34m\u001b[0m\u001b[0;34m\u001b[0m\u001b[0m\n\u001b[0;32m----> 4\u001b[0;31m \u001b[0mprint\u001b[0m\u001b[0;34m(\u001b[0m\u001b[0msida\u001b[0m\u001b[0;34m.\u001b[0m\u001b[0mtext\u001b[0m\u001b[0;34m)\u001b[0m\u001b[0;34m\u001b[0m\u001b[0;34m\u001b[0m\u001b[0m\n\u001b[0m",
      "\u001b[0;31mNameError\u001b[0m: name 'sida' is not defined"
     ]
    }
   ],
   "source": [
    "import requests\n",
    "\n",
    "robots = requests.get('https://yle.fi/robots.txt')\n",
    "print(sida.text)"
   ]
  },
  {
   "cell_type": "markdown",
   "metadata": {},
   "source": [
    "- `User-agent: *` i filen innebär att restriktionerna gäller alla sorters robotar\n",
    "- `Disallow: /eurovision/` innebär att robotar inte får skrapa https://yle.fi/eurovision/"
   ]
  },
  {
   "cell_type": "markdown",
   "metadata": {
    "colab_type": "text",
    "id": "6XaG0fxbNNm0"
   },
   "source": [
    "## Dagens nyheter"
   ]
  },
  {
   "cell_type": "markdown",
   "metadata": {
    "colab_type": "text",
    "id": "Eqg7PSvENVyE"
   },
   "source": [
    "Vårt mål är här att automatiskt få dagens nyheter listade."
   ]
  },
  {
   "cell_type": "code",
   "execution_count": 2,
   "metadata": {
    "colab": {},
    "colab_type": "code",
    "id": "yG4ixwn8IzNO"
   },
   "outputs": [],
   "source": [
    "from bs4 import BeautifulSoup\n",
    "\n",
    "yle = requests.get('https://svenska.yle.fi/')\n",
    "soppa = BeautifulSoup(yle.content, 'html.parser')"
   ]
  },
  {
   "cell_type": "code",
   "execution_count": 3,
   "metadata": {
    "colab": {
     "base_uri": "https://localhost:8080/",
     "height": 34
    },
    "colab_type": "code",
    "id": "bKjWQsejJKhO",
    "outputId": "c0d4fb28-e23b-49ca-9c86-2bcfac2b1e69",
    "tags": []
   },
   "outputs": [
    {
     "name": "stdout",
     "output_type": "stream",
     "text": [
      "<title>Svenska Yle</title>\n"
     ]
    }
   ],
   "source": [
    "titel = soppa.find('title')\n",
    "print(titel)"
   ]
  },
  {
   "cell_type": "code",
   "execution_count": 4,
   "metadata": {
    "colab": {
     "base_uri": "https://localhost:8080/",
     "height": 408
    },
    "colab_type": "code",
    "id": "BCe6WmTtMZRG",
    "outputId": "f3807042-25d9-45e8-8b40-927ed930e469",
    "tags": []
   },
   "outputs": [
    {
     "name": "stdout",
     "output_type": "stream",
     "text": [
      "svenska.yle.fi      https://svenska.yle.fi\n",
      "Svenska Yle         https://svenska.yle.fi\n",
      "Arenan              https://arenan.yle.fi/tv\n",
      "Ämnen               https://svenska.yle.fi/lista/amnessidor\n",
      "Svenska Yle         https://svenska.yle.fi\n",
      "Arenan              https://arenan.yle.fi/tv\n",
      "Inrikes             https://svenska.yle.fi/inrikes\n",
      "Sport               https://svenska.yle.fi/sport\n",
      "Utrikes             https://svenska.yle.fi/utrikes\n",
      "Kultur              https://svenska.yle.fi/kultur\n",
      "Familj              https://svenska.yle.fi/familj\n",
      "Kunskap             https://svenska.yle.fi/vetamix\n",
      "Huvudstadsregionen  https://svenska.yle.fi/huvudstadsregionen\n",
      "Västnyland          https://svenska.yle.fi/vastnyland\n",
      "Åboland             https://svenska.yle.fi/aboland\n",
      "Österbotten         https://svenska.yle.fi/osterbotten\n",
      "Östnyland           https://svenska.yle.fi/ostnyland\n",
      "Kontakta oss        https://svenska.yle.fi/respons\n",
      "Radio-guide         https://arenan.yle.fi/radio/guide\n",
      "TV-guide            https://arenan.yle.fi/tv/guide\n",
      "Etusivu suomeksi    https://yle.fi\n",
      "Fler ämnen          https://svenska.yle.fi/lista/amnessidor\n",
      "Mitt konto          https://tunnus.yle.fi/#mina-uppgifter\n"
     ]
    }
   ],
   "source": [
    "sidhuvud = soppa.find('header')\n",
    "\n",
    "for lank in sidhuvud.find_all('a', text=True):\n",
    "  print(f\"{lank.text:20s}{lank.get('href')}\")"
   ]
  },
  {
   "cell_type": "markdown",
   "metadata": {
    "colab_type": "text",
    "id": "9H1DwSxdStZu"
   },
   "source": [
    "Vi söker alla länkar"
   ]
  },
  {
   "cell_type": "code",
   "execution_count": 5,
   "metadata": {
    "colab": {},
    "colab_type": "code",
    "id": "N1kMsDQGPxdU"
   },
   "outputs": [],
   "source": [
    "yle_lankar = soppa.find_all('a')"
   ]
  },
  {
   "cell_type": "code",
   "execution_count": 6,
   "metadata": {
    "colab": {
     "base_uri": "https://localhost:8080/",
     "height": 85
    },
    "colab_type": "code",
    "id": "ybHAEvMART82",
    "outputId": "ce240fdd-14f5-4ff4-bb3e-834d0e8d535c",
    "tags": []
   },
   "outputs": [
    {
     "name": "stdout",
     "output_type": "stream",
     "text": [
      "<a href=\"https://svenska.yle.fi\" id=\"yle-header-main-link--svenska-yle\" tabindex=\"0\">\n",
      " Svenska Yle\n",
      "</a>\n",
      "\n"
     ]
    }
   ],
   "source": [
    "print(yle_lankar[2].prettify())"
   ]
  },
  {
   "cell_type": "code",
   "execution_count": 7,
   "metadata": {
    "tags": []
   },
   "outputs": [
    {
     "name": "stdout",
     "output_type": "stream",
     "text": [
      "<h3 class=\"js-ydd-card-title flex txt-16\">\n",
      " Senaste nytt om coronaviruset\n",
      "</h3>\n",
      "\n"
     ]
    }
   ],
   "source": [
    "print(soppa.find('h3').prettify())"
   ]
  },
  {
   "cell_type": "code",
   "execution_count": 8,
   "metadata": {
    "tags": []
   },
   "outputs": [
    {
     "name": "stdout",
     "output_type": "stream",
     "text": [
      "Rubrik: Senaste nytt om coronaviruset\n",
      "Länk: https://svenska.yle.fi/coronavirus\n"
     ]
    }
   ],
   "source": [
    "for yle_lank in yle_lankar:\n",
    "  rubrik = yle_lank.find('h3')\n",
    "  if rubrik:\n",
    "    print('Rubrik:', rubrik.text.strip())\n",
    "    print('Länk:', yle_lank.get('href'))\n",
    "    break"
   ]
  },
  {
   "cell_type": "markdown",
   "metadata": {
    "colab_type": "text",
    "id": "xFCTcuDlZ55z"
   },
   "source": [
    "href egenskapen anger länkens destination"
   ]
  },
  {
   "cell_type": "code",
   "execution_count": 9,
   "metadata": {
    "colab": {},
    "colab_type": "code",
    "id": "LDUk0LijSC0m"
   },
   "outputs": [],
   "source": [
    "rubriker = []\n",
    "lankar = []\n",
    "\n",
    "for yle_lank in yle_lankar:\n",
    "  rubrik = yle_lank.find('h3')\n",
    "  if rubrik:\n",
    "    rubriker.append(rubrik.text.strip())\n",
    "    lankar.append(yle_lank.get('href'))"
   ]
  },
  {
   "cell_type": "code",
   "execution_count": 10,
   "metadata": {
    "colab": {},
    "colab_type": "code",
    "id": "ooNrkKe6S6Kn"
   },
   "outputs": [],
   "source": [
    "import pandas as pd\n",
    "\n",
    "nyheter = pd.DataFrame({'Rubrik': rubriker, 'Länk': lankar})"
   ]
  },
  {
   "cell_type": "code",
   "execution_count": 11,
   "metadata": {
    "colab": {
     "base_uri": "https://localhost:8080/",
     "height": 427
    },
    "colab_type": "code",
    "id": "YOxhvP4nX6Y2",
    "outputId": "c8141810-3d3b-4ad4-a175-9638fb715756"
   },
   "outputs": [
    {
     "data": {
      "text/html": [
       "<div>\n",
       "<style scoped>\n",
       "    .dataframe tbody tr th:only-of-type {\n",
       "        vertical-align: middle;\n",
       "    }\n",
       "\n",
       "    .dataframe tbody tr th {\n",
       "        vertical-align: top;\n",
       "    }\n",
       "\n",
       "    .dataframe thead th {\n",
       "        text-align: right;\n",
       "    }\n",
       "</style>\n",
       "<table border=\"1\" class=\"dataframe\">\n",
       "  <thead>\n",
       "    <tr style=\"text-align: right;\">\n",
       "      <th></th>\n",
       "      <th>Rubrik</th>\n",
       "      <th>Länk</th>\n",
       "    </tr>\n",
       "  </thead>\n",
       "  <tbody>\n",
       "    <tr>\n",
       "      <th>0</th>\n",
       "      <td>Senaste nytt om coronaviruset</td>\n",
       "      <td>https://svenska.yle.fi/coronavirus</td>\n",
       "    </tr>\n",
       "    <tr>\n",
       "      <th>1</th>\n",
       "      <td>IT-företagaren Kaj Arnö: Hårt arbete och kloka beslut eller bondtur att vi lyckades sälja IT-firman för en miljard dollar?</td>\n",
       "      <td>https://svenska.yle.fi/artikel/2020/07/01/it-foretagaren-kaj-arno-hart-arbete-och-kloka-beslut-eller-bondtur-att-vi</td>\n",
       "    </tr>\n",
       "    <tr>\n",
       "      <th>2</th>\n",
       "      <td>Lyssna på Kaj Arnös sommarprat</td>\n",
       "      <td>https://arenan.yle.fi/1-50548527</td>\n",
       "    </tr>\n",
       "    <tr>\n",
       "      <th>3</th>\n",
       "      <td>Tiotusentals hushåll utan el efter stormen Päivö - på onsdag väntar häftiga åskväder</td>\n",
       "      <td>https://svenska.yle.fi/artikel/2020/07/01/tiotusentals-hushall-utan-el-efter-stormen-paivo-pa-onsdag-vantar-haftiga</td>\n",
       "    </tr>\n",
       "    <tr>\n",
       "      <th>4</th>\n",
       "      <td>Stormen Päivö drog in över Borgå - gatubrunnar svämmade över och fyllde källare med vatten</td>\n",
       "      <td>https://svenska.yle.fi/artikel/2020/06/30/stormen-paivo-drog-in-over-borga-gatubrunnar-svammade-over-och-fyllde-kallare-med</td>\n",
       "    </tr>\n",
       "    <tr>\n",
       "      <th>5</th>\n",
       "      <td>MT:s gallup: Haavisto och Halla-aho tappar i popularitet som presidentkandidater – Marin upp på tredje plats</td>\n",
       "      <td>https://svenska.yle.fi/artikel/2020/07/01/mts-gallup-haavisto-och-halla-aho-tappar-i-popularitet-som-presidentkandidater</td>\n",
       "    </tr>\n",
       "    <tr>\n",
       "      <th>6</th>\n",
       "      <td>USA:s Fauci: Hela landet hotas av snabb coronaspridning - \"Skulle inte vara förvånad om vi är uppe i över 100 000 fall per dag\"</td>\n",
       "      <td>https://svenska.yle.fi/artikel/2020/07/01/usas-fauci-hela-landet-hotas-av-snabb-coronaspridning-skulle-inte-vara-forvanad</td>\n",
       "    </tr>\n",
       "    <tr>\n",
       "      <th>7</th>\n",
       "      <td>Kommentar: Så länge ryssarna sväljer maktfullkomlighet och valfusk sitter Putin stadigt kvar</td>\n",
       "      <td>https://svenska.yle.fi/artikel/2020/07/01/kommentar-sa-lange-ryssarna-svaljer-maktfullkomlighet-och-valfusk-sitter-putin</td>\n",
       "    </tr>\n",
       "    <tr>\n",
       "      <th>8</th>\n",
       "      <td>Coronakrisen i centrum när Tyskland tar över EU-ordförandeklubban, juli inleds med uppluckrade restriktioner för utomhusevenemang – läs det senaste om coronaviruset här</td>\n",
       "      <td>https://svenska.yle.fi/coronavirus</td>\n",
       "    </tr>\n",
       "    <tr>\n",
       "      <th>9</th>\n",
       "      <td>Hjärnskadade Irina föreläser ibland om sina erfarenheter - i FPA:s ögon är hon arbetsför och behöver inget stöd</td>\n",
       "      <td>https://svenska.yle.fi/artikel/2020/07/01/hjarnskadade-irina-forelaser-ibland-om-sina-erfarenheter-i-fpas-ogon-ar-hon</td>\n",
       "    </tr>\n",
       "  </tbody>\n",
       "</table>\n",
       "</div>"
      ],
      "text/plain": [
       "                                                                                                                                                                     Rubrik  \\\n",
       "0                                                                                                                                             Senaste nytt om coronaviruset   \n",
       "1                                                IT-företagaren Kaj Arnö: Hårt arbete och kloka beslut eller bondtur att vi lyckades sälja IT-firman för en miljard dollar?   \n",
       "2                                                                                                                                            Lyssna på Kaj Arnös sommarprat   \n",
       "3                                                                                      Tiotusentals hushåll utan el efter stormen Päivö - på onsdag väntar häftiga åskväder   \n",
       "4                                                                                Stormen Päivö drog in över Borgå - gatubrunnar svämmade över och fyllde källare med vatten   \n",
       "5                                                              MT:s gallup: Haavisto och Halla-aho tappar i popularitet som presidentkandidater – Marin upp på tredje plats   \n",
       "6                                           USA:s Fauci: Hela landet hotas av snabb coronaspridning - \"Skulle inte vara förvånad om vi är uppe i över 100 000 fall per dag\"   \n",
       "7                                                                              Kommentar: Så länge ryssarna sväljer maktfullkomlighet och valfusk sitter Putin stadigt kvar   \n",
       "8  Coronakrisen i centrum när Tyskland tar över EU-ordförandeklubban, juli inleds med uppluckrade restriktioner för utomhusevenemang – läs det senaste om coronaviruset här   \n",
       "9                                                           Hjärnskadade Irina föreläser ibland om sina erfarenheter - i FPA:s ögon är hon arbetsför och behöver inget stöd   \n",
       "\n",
       "                                                                                                                          Länk  \n",
       "0                                                                                           https://svenska.yle.fi/coronavirus  \n",
       "1          https://svenska.yle.fi/artikel/2020/07/01/it-foretagaren-kaj-arno-hart-arbete-och-kloka-beslut-eller-bondtur-att-vi  \n",
       "2                                                                                             https://arenan.yle.fi/1-50548527  \n",
       "3          https://svenska.yle.fi/artikel/2020/07/01/tiotusentals-hushall-utan-el-efter-stormen-paivo-pa-onsdag-vantar-haftiga  \n",
       "4  https://svenska.yle.fi/artikel/2020/06/30/stormen-paivo-drog-in-over-borga-gatubrunnar-svammade-over-och-fyllde-kallare-med  \n",
       "5     https://svenska.yle.fi/artikel/2020/07/01/mts-gallup-haavisto-och-halla-aho-tappar-i-popularitet-som-presidentkandidater  \n",
       "6    https://svenska.yle.fi/artikel/2020/07/01/usas-fauci-hela-landet-hotas-av-snabb-coronaspridning-skulle-inte-vara-forvanad  \n",
       "7     https://svenska.yle.fi/artikel/2020/07/01/kommentar-sa-lange-ryssarna-svaljer-maktfullkomlighet-och-valfusk-sitter-putin  \n",
       "8                                                                                           https://svenska.yle.fi/coronavirus  \n",
       "9        https://svenska.yle.fi/artikel/2020/07/01/hjarnskadade-irina-forelaser-ibland-om-sina-erfarenheter-i-fpas-ogon-ar-hon  "
      ]
     },
     "execution_count": 11,
     "metadata": {},
     "output_type": "execute_result"
    }
   ],
   "source": [
    "pd.set_option('display.max_colwidth', None)\n",
    "nyheter.head(10)"
   ]
  },
  {
   "cell_type": "markdown",
   "metadata": {},
   "source": [
    "## Konsol"
   ]
  },
  {
   "cell_type": "markdown",
   "metadata": {},
   "source": [
    "## Quiz"
   ]
  }
 ],
 "metadata": {
  "colab": {
   "name": "webbskrapning.ipynb"
  },
  "kernelspec": {
   "display_name": "Python 3",
   "name": "python3"
  },
  "language_info": {
   "codemirror_mode": {
    "name": "ipython",
    "version": 3
   },
   "file_extension": ".py",
   "mimetype": "text/x-python",
   "name": "python",
   "nbconvert_exporter": "python",
   "pygments_lexer": "ipython3",
   "version": "3.6.10"
  }
 },
 "nbformat": 4,
 "nbformat_minor": 0
}
