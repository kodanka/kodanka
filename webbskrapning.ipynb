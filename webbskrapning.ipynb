{
 "cells": [
  {
   "cell_type": "markdown",
   "metadata": {
    "colab_type": "text",
    "id": "lEmZq7xGJ-0k"
   },
   "source": [
    "# Webbskrapning"
   ]
  },
  {
   "cell_type": "markdown",
   "metadata": {
    "colab_type": "text",
    "id": "71AbFAH9KUJo"
   },
   "source": [
    "Webbskrapning (_eng. web scraping_) går ut på att automatisera sökandet av information från sidor på nätet. Här är några motiveringar till varför man kan göra det:\n",
    "\n",
    "- När den data du behöver inte finns färdigt samlad\n",
    "- I forskningssyfte för att skaffa information\n",
    "- I kommersiellt syfte för att analysera kunders val på nätet och automatisera marknadsföring\n",
    "\n",
    "Men är det lagligt? Jo, så länge man skrapar allmänt tillgänglig data:\n",
    "\n",
    "- Användaren har gjort datan offentlig\n",
    "- Det krävs inget konto för att nå datan\n",
    "- Sidan är inte blockerad av en `robots.txt` fil\n",
    "\n",
    "Som exempel har Yle en sådan fil med restriktioner, https://yle.fi/robots.txt. Vi tar och ser vad den innehåller. Ett lätt sätt att ladda sidor från internet i Python är genom att använda `requests.get()`:"
   ]
  },
  {
   "cell_type": "code",
   "execution_count": 1,
   "metadata": {
    "tags": []
   },
   "outputs": [
    {
     "name": "stdout",
     "output_type": "stream",
     "text": [
      "User-agent: *\n",
      "Disallow: /ylefiroot-errors\n",
      "Disallow: /cgi-bin\n",
      "Disallow: /klaffi\n",
      "Disallow: /java\n",
      "Disallow: /player\n",
      "Disallow: /errorsivut/\n",
      "Disallow: /global/\n",
      "Disallow: /haku/\n",
      "Disallow: /eurovision/\n",
      "Disallow: /embed/\n",
      "Allow: /global/api/load.php\n",
      "Allow: /cgi-bin/tekstitv/ttv.cgi/\n",
      "\n",
      "\n",
      "#yle.fi/aihe, aka. FYND - contact drupal@yle.fi if needed\n",
      "Disallow: /aihe/flag/\n",
      "Disallow: /aihe/ajax_comments/\n",
      "Disallow: /aihe/comment/reply/\n",
      "\n",
      "# karttasovellus APla 9.7.2015\n",
      "Disallow: /karttasovellus/\n"
     ]
    }
   ],
   "source": [
    "import requests\n",
    "\n",
    "restriktioner = requests.get('https://yle.fi/robots.txt')\n",
    "print(restriktioner.text)"
   ]
  },
  {
   "cell_type": "markdown",
   "metadata": {},
   "source": [
    "- `User-agent: *` i filen innebär att restriktionerna gäller alla sorters robotar\n",
    "- `Disallow: /eurovision/` innebär att robotar inte får skrapa t.ex. https://yle.fi/eurovision/"
   ]
  },
  {
   "cell_type": "markdown",
   "metadata": {},
   "source": [
    "<div class='alert alert-info'>Övning 1\n",
    "\n",
    "Sök på olika sidor som du brukar använda ifall de har en `robots.txt` fil. Försök förstå vilka sidor de avråder robotar från att besöka. Om du vill veta mer om _The Robots Exclusion Protocol_ hittar man information här https://www.robotstxt.org.\n",
    "</div>"
   ]
  },
  {
   "cell_type": "markdown",
   "metadata": {
    "colab_type": "text",
    "id": "6XaG0fxbNNm0"
   },
   "source": [
    "## Dagens nyheter"
   ]
  },
  {
   "cell_type": "markdown",
   "metadata": {
    "colab_type": "text",
    "id": "Eqg7PSvENVyE"
   },
   "source": [
    "Nu ska vi se om vi lyckas skrapa Svenska Yles framsida för att få dagens nyheter listade. Vi börjar med att importera `BeautifulSoup` som är ett paket i Python för att navigera HTML (HyperText Markup Language), d.v.s. språket som webbsidor skrivs i. Sedan söker vi sidan på nätet med `requests` paketet igen och omvandlar sidans innehåll med en HTML parser till en s.k. _soppa_ som `Beautifulsoup` kan hantera. En parser är något som förstår syntaxen (regler, grammatik, uppbyggnad) för ett språk som i vårt fall är HTML."
   ]
  },
  {
   "cell_type": "code",
   "execution_count": 2,
   "metadata": {
    "colab": {},
    "colab_type": "code",
    "id": "yG4ixwn8IzNO"
   },
   "outputs": [],
   "source": [
    "from bs4 import BeautifulSoup\n",
    "\n",
    "yle = requests.get('https://svenska.yle.fi')\n",
    "soppa = BeautifulSoup(yle.content, 'html.parser')"
   ]
  },
  {
   "cell_type": "markdown",
   "metadata": {},
   "source": [
    "### Hitta HTML element"
   ]
  },
  {
   "cell_type": "markdown",
   "metadata": {},
   "source": [
    "Man kan hitta information i sidan med `find()`, vi söker sidans titel som syns uppe i sidans flik i sökmotorn. HTML använder `<tagg></tagg>` för olika typer av innehåll, och genom att byta ut `tagg` till t.ex. `title` = titel, `header` = sidhuvud eller `footer` = sidfot får man olika sorters element på webbsidor. "
   ]
  },
  {
   "cell_type": "code",
   "execution_count": 3,
   "metadata": {},
   "outputs": [
    {
     "name": "stdout",
     "output_type": "stream",
     "text": [
      "<title>Svenska Yle</title>\n"
     ]
    }
   ],
   "source": [
    "titel = soppa.find('title')\n",
    "print(titel)"
   ]
  },
  {
   "cell_type": "markdown",
   "metadata": {},
   "source": [
    "Sedan kollar vi på sidhuvudet som ofta har lite inledande information samt länkar för att navigera sidan. Själva länkarna finner vi genom HTML taggen `<a>`, man kan få alla på en gång som en lista genom att använda `find_all()`. Själva webaddressen finns i HTML under `href`. Man kan göra det lite snyggare då man skriver ut `BeautifulSoup` element genom att använda `prettify()`"
   ]
  },
  {
   "cell_type": "code",
   "execution_count": 4,
   "metadata": {},
   "outputs": [
    {
     "name": "stdout",
     "output_type": "stream",
     "text": [
      "<a href=\"https://svenska.yle.fi\" id=\"yle-header-main-link--svenska-yle\" tabindex=\"0\">\n",
      " Svenska Yle\n",
      "</a>\n",
      "\n"
     ]
    }
   ],
   "source": [
    "sidhuvud = soppa.find('header')\n",
    "sidhuvud_lankar = sidhuvud.find_all('a')\n",
    "print(sidhuvud_lankar[1].prettify())"
   ]
  },
  {
   "cell_type": "markdown",
   "metadata": {},
   "source": [
    "Eftersom vi sökte länkarna som en lista kan man loopa igenom dem och deras texter! Man får texten för ett `Beautifulsoup` element med `text` funktionen och länkar fås med `get('href')`. Här skrivs allt ut som `f-strängar` för att få enhetliga mellanrum mellan text och länkar."
   ]
  },
  {
   "cell_type": "code",
   "execution_count": 5,
   "metadata": {
    "colab": {
     "base_uri": "https://localhost:8080/",
     "height": 408
    },
    "colab_type": "code",
    "id": "BCe6WmTtMZRG",
    "outputId": "f3807042-25d9-45e8-8b40-927ed930e469",
    "tags": []
   },
   "outputs": [
    {
     "name": "stdout",
     "output_type": "stream",
     "text": [
      "svenska.yle.fi      https://svenska.yle.fi\n",
      "Svenska Yle         https://svenska.yle.fi\n",
      "Arenan              https://arenan.yle.fi/tv\n",
      "Ämnen               https://svenska.yle.fi/lista/amnessidor\n",
      "Svenska Yle         https://svenska.yle.fi\n",
      "Arenan              https://arenan.yle.fi/tv\n",
      "Inrikes             https://svenska.yle.fi/inrikes\n",
      "Sport               https://svenska.yle.fi/sport\n",
      "Utrikes             https://svenska.yle.fi/utrikes\n",
      "Kultur              https://svenska.yle.fi/kultur\n",
      "Familj              https://svenska.yle.fi/familj\n",
      "Kunskap             https://svenska.yle.fi/vetamix\n",
      "Huvudstadsregionen  https://svenska.yle.fi/huvudstadsregionen\n",
      "Västnyland          https://svenska.yle.fi/vastnyland\n",
      "Åboland             https://svenska.yle.fi/aboland\n",
      "Österbotten         https://svenska.yle.fi/osterbotten\n",
      "Östnyland           https://svenska.yle.fi/ostnyland\n",
      "Kontakta oss        https://svenska.yle.fi/respons\n",
      "Radio-guide         https://arenan.yle.fi/radio/guide\n",
      "TV-guide            https://arenan.yle.fi/tv/guide\n",
      "Etusivu suomeksi    https://yle.fi\n",
      "Fler ämnen          https://svenska.yle.fi/lista/amnessidor\n",
      "Mitt konto          https://tunnus.yle.fi/#mina-uppgifter\n"
     ]
    }
   ],
   "source": [
    "for lank in sidhuvud_lankar:\n",
    "  print(f\"{lank.text:20s}{lank.get('href')}\")"
   ]
  },
  {
   "cell_type": "markdown",
   "metadata": {},
   "source": [
    "<div class='alert alert-info'>Övning 2\n",
    "\n",
    "Se vad du hittar för länkar i sidfoten på https://svenska.yle.fi, tips: börja med att söka på `footer`. Skriv ut webbadresserna tillsammans med deras texter. Här är en grund för programmet:\n",
    "    \n",
    "```\n",
    "import requests\n",
    "from bs4 import BeautifulSoup\n",
    "\n",
    "yle = requests.get('https://svenska.yle.fi')\n",
    "soppa = BeautifulSoup(yle.content, 'html.parser')\n",
    "```\n",
    "</div>"
   ]
  },
  {
   "cell_type": "markdown",
   "metadata": {},
   "source": [
    "### Spara innehåll i listor"
   ]
  },
  {
   "cell_type": "markdown",
   "metadata": {},
   "source": [
    "Nyheterna som vi är intresserade av att hitta finns i huvudinnehållet i sidan innanför `<body>...</body>` så vi börjar med att söka på det."
   ]
  },
  {
   "cell_type": "code",
   "execution_count": 6,
   "metadata": {},
   "outputs": [],
   "source": [
    "innehall = soppa.find('body')"
   ]
  },
  {
   "cell_type": "markdown",
   "metadata": {},
   "source": [
    "Rubriker i HTML finns innanför `<h1>`, `<h2>`, o.s.v. beroende på vilken nivå/storlekt rubriken har. Vi ser om vi hittar något som skulle likna en nyhet."
   ]
  },
  {
   "cell_type": "code",
   "execution_count": 7,
   "metadata": {
    "tags": []
   },
   "outputs": [
    {
     "name": "stdout",
     "output_type": "stream",
     "text": [
      "<h1 class=\"visually-hidden\">\n",
      " Innehåll från svenska.yle.fi\n",
      "</h1>\n",
      "\n",
      "<h2 class=\"visually-hidden focusable\">\n",
      " Huvudinnehåll\n",
      "</h2>\n"
     ]
    }
   ],
   "source": [
    "print(innehall.find('h1').prettify())\n",
    "print(innehall.find('h2').prettify())"
   ]
  },
  {
   "cell_type": "markdown",
   "metadata": {},
   "source": [
    "Det verkar som att `<h1>` och `<h2>` inte fungerar so nyhetsubriker på sidan, men se däremot på `<h3>`:"
   ]
  },
  {
   "cell_type": "code",
   "execution_count": 8,
   "metadata": {
    "tags": []
   },
   "outputs": [
    {
     "name": "stdout",
     "output_type": "stream",
     "text": [
      "<h3 class=\"js-ydd-card-title flex txt-16\">\n",
      " Ted &amp; Kaj: Din mamma var en sköldpadda\n",
      "</h3>\n",
      "\n"
     ]
    }
   ],
   "source": [
    "print(innehall.find('h3').prettify())"
   ]
  },
  {
   "cell_type": "markdown",
   "metadata": {
    "colab_type": "text",
    "id": "9H1DwSxdStZu"
   },
   "source": [
    "Nu vet vi hur vi hittar nyhternas rubriker, men vad är de utan länkar till själva nyheten? Dem kan vi hitta genom att igen söka på alla `<a>` taggar."
   ]
  },
  {
   "cell_type": "code",
   "execution_count": 9,
   "metadata": {
    "colab": {},
    "colab_type": "code",
    "id": "N1kMsDQGPxdU"
   },
   "outputs": [],
   "source": [
    "innehall_lankar = innehall.find_all('a')"
   ]
  },
  {
   "cell_type": "markdown",
   "metadata": {},
   "source": [
    "Vi vill hitta de länkar som är associerade till en nyhetsrubrik, så vi söker efter rubrik taggen `<h3>` i varje länk. Nu för att se att det fungerar avslutas loopen med `break` efter att vi hittat den första rubriken. För att få bort onödiga mellanrum som finns kring en del rubriker använder vi `strip()` funktionen."
   ]
  },
  {
   "cell_type": "code",
   "execution_count": 10,
   "metadata": {
    "tags": []
   },
   "outputs": [
    {
     "name": "stdout",
     "output_type": "stream",
     "text": [
      "Rubrik: Ted & Kaj: Din mamma var en sköldpadda\n",
      "Länk: https://arenan.yle.fi/1-50576822\n"
     ]
    }
   ],
   "source": [
    "for lank in innehall_lankar:\n",
    "  rubrik = lank.find('h3')\n",
    "  if rubrik:\n",
    "    print('Rubrik:', rubrik.text.strip())\n",
    "    print('Länk:', lank.get('href'))\n",
    "    break"
   ]
  },
  {
   "cell_type": "markdown",
   "metadata": {
    "colab_type": "text",
    "id": "xFCTcuDlZ55z"
   },
   "source": [
    "Det ser ju bra ut, då gör vi lika för alla länkar i innehållet och sparar resultatet i två listor, `nyhetsrubriker` och `nyhetslankar`."
   ]
  },
  {
   "cell_type": "code",
   "execution_count": 11,
   "metadata": {
    "colab": {},
    "colab_type": "code",
    "id": "LDUk0LijSC0m"
   },
   "outputs": [],
   "source": [
    "nyhetsrubriker = []\n",
    "nyhetslankar = []\n",
    "\n",
    "for lank in innehall_lankar:\n",
    "  rubrik = lank.find('h3')\n",
    "  if rubrik:\n",
    "    nyhetsrubriker.append(rubrik.text.strip())\n",
    "    nyhetslankar.append(lank.get('href'))"
   ]
  },
  {
   "cell_type": "markdown",
   "metadata": {},
   "source": [
    "<div class='alert alert-info'>Övning 3\n",
    "\n",
    "Det finns flera hundra robotar listade på https://www.robotstxt.org/db.html, spara robotarnas namn och webaddresser i varsin lista. Tips: `find_all()` och `<li>` (_eng. list item_) som är en tagg för listade element.\n",
    "    \n",
    "Man kan se hela sidans innehåll så här:\n",
    "\n",
    "```\n",
    "import requests\n",
    "from bs4 import BeautifulSoup\n",
    "\n",
    "robotar = requests.get('https://www.robotstxt.org/db.html')\n",
    "soppa = BeautifulSoup(robotar.content, 'html.parser')\n",
    "    \n",
    "print(soppa.prettify())\n",
    "```    \n",
    "\n",
    "Ett annat mycket bra sätt att se sidans uppbyggnad är att besöka sidan, högerklicka på den och välja `Visa sidkälla`, <view-source:https://www.robotstxt.org/db.html>.\n",
    "\n",
    "</div>"
   ]
  },
  {
   "cell_type": "markdown",
   "metadata": {},
   "source": [
    "### Skapa en tabell"
   ]
  },
  {
   "cell_type": "markdown",
   "metadata": {},
   "source": [
    "Det skulle vara snyggt att visa nyheterna i tabellform så vi använder oss av paketet `pandas` som är bra på just det. Man anger kolumnernas namn som nycklar och listorna som värden i ett Python dictionary."
   ]
  },
  {
   "cell_type": "code",
   "execution_count": 12,
   "metadata": {
    "colab": {},
    "colab_type": "code",
    "id": "ooNrkKe6S6Kn"
   },
   "outputs": [],
   "source": [
    "import pandas as pd\n",
    "\n",
    "nyheter = pd.DataFrame({'Rubrik': nyhetsrubriker, 'Länk': nyhetslankar})"
   ]
  },
  {
   "cell_type": "markdown",
   "metadata": {},
   "source": [
    "Rubrikerna och länkarna kan vara väldigt långa så för att undvika att de kapas av automatiskt sätter vi `max_colwidth` till `None`, det gör att det inte finns nån maximal bredd för tabellens innehåll. Men hur vet man att man ska ändra på just någon sån parameter? Det lär man sig genom att söka på nätet, oftast landar man på [Stack Overflow](https://stackoverflow.com/questions/25351968/how-to-display-full-non-truncated-dataframe-information-in-html-when-convertin) då det handlar om programmeringstips. Det är bra att veta att alla programmerare konstant söker information på internet eftersom det är omöjligt att veta och minnas hur man ska koda olika saker.\n",
    "\n",
    "Till slut skriver vi ut topp 10 nyheterna!"
   ]
  },
  {
   "cell_type": "code",
   "execution_count": 13,
   "metadata": {
    "colab": {
     "base_uri": "https://localhost:8080/",
     "height": 427
    },
    "colab_type": "code",
    "id": "YOxhvP4nX6Y2",
    "outputId": "c8141810-3d3b-4ad4-a175-9638fb715756"
   },
   "outputs": [
    {
     "data": {
      "text/html": [
       "<div>\n",
       "<style scoped>\n",
       "    .dataframe tbody tr th:only-of-type {\n",
       "        vertical-align: middle;\n",
       "    }\n",
       "\n",
       "    .dataframe tbody tr th {\n",
       "        vertical-align: top;\n",
       "    }\n",
       "\n",
       "    .dataframe thead th {\n",
       "        text-align: right;\n",
       "    }\n",
       "</style>\n",
       "<table border=\"1\" class=\"dataframe\">\n",
       "  <thead>\n",
       "    <tr style=\"text-align: right;\">\n",
       "      <th></th>\n",
       "      <th>Rubrik</th>\n",
       "      <th>Länk</th>\n",
       "    </tr>\n",
       "  </thead>\n",
       "  <tbody>\n",
       "    <tr>\n",
       "      <th>0</th>\n",
       "      <td>Ted &amp; Kaj: Din mamma var en sköldpadda</td>\n",
       "      <td>https://arenan.yle.fi/1-50576822</td>\n",
       "    </tr>\n",
       "    <tr>\n",
       "      <th>1</th>\n",
       "      <td>Senaste nytt om coronaviruset</td>\n",
       "      <td>https://svenska.yle.fi/coronavirus</td>\n",
       "    </tr>\n",
       "    <tr>\n",
       "      <th>2</th>\n",
       "      <td>Jobb som bärplockare är ökänt för dåliga arbetsförhållanden men så ska det inte vara: \"Det är viktigt att alla behandlas lika oavsett varifrån de kommer\"</td>\n",
       "      <td>https://svenska.yle.fi/artikel/2020/07/01/jobb-som-barplockare-ar-okant-for-daliga-arbetsforhallanden-men-sa-ska-det-inte</td>\n",
       "    </tr>\n",
       "    <tr>\n",
       "      <th>3</th>\n",
       "      <td>Preliminära uppgifter: Förlängt Putinstyre i sikte</td>\n",
       "      <td>https://svenska.yle.fi/artikel/2020/07/01/forlangt-putinstyre-i-sikte-enligt-preliminara-uppgifter</td>\n",
       "    </tr>\n",
       "    <tr>\n",
       "      <th>4</th>\n",
       "      <td>Kommentar: Så länge ryssarna sväljer maktfullkomlighet och valfusk sitter Putin stadigt kvar</td>\n",
       "      <td>https://svenska.yle.fi/artikel/2020/07/01/kommentar-sa-lange-ryssarna-svaljer-maktfullkomlighet-och-valfusk-sitter-putin</td>\n",
       "    </tr>\n",
       "    <tr>\n",
       "      <th>5</th>\n",
       "      <td>Att vara kvinna och jägare är att våga ta plats och bevisa sin duglighet</td>\n",
       "      <td>https://svenska.yle.fi/artikel/2020/07/01/att-vara-kvinna-och-jagare-ar-att-vaga-ta-plats-och-bevisa-sin-duglighet</td>\n",
       "    </tr>\n",
       "    <tr>\n",
       "      <th>6</th>\n",
       "      <td>Trumps säkerhetsrådgivare: Uppgifter om ryska skottpengar så \"vaga\" att presidenten inte informerades</td>\n",
       "      <td>https://svenska.yle.fi/artikel/2020/07/01/trumps-sakerhetsradgivare-uppgifter-om-ryska-skottpengar-sa-vaga-att-presidenten</td>\n",
       "    </tr>\n",
       "    <tr>\n",
       "      <th>7</th>\n",
       "      <td>Tusentals Hongkongbor ute på gatorna i protest mot ny inskränkande lag - polisen grep människor med hänvisning till lagen</td>\n",
       "      <td>https://svenska.yle.fi/artikel/2020/07/01/tusentals-hongkongbor-ute-pa-gatorna-i-protest-mot-ny-inskrankande-lag-polisen</td>\n",
       "    </tr>\n",
       "    <tr>\n",
       "      <th>8</th>\n",
       "      <td>Coronarestriktionerna sätter sin prägel på sommarens evenemang, folksamlingar på över 500 personer tillåtna utomhus igen – läs det senaste om coronaviruset här</td>\n",
       "      <td>https://svenska.yle.fi/coronavirus</td>\n",
       "    </tr>\n",
       "    <tr>\n",
       "      <th>9</th>\n",
       "      <td>Stor blunder av Tim Krul när Norwich åkte på ny förlust – Teemu Pukki fick bara spela en halvlek</td>\n",
       "      <td>https://svenska.yle.fi/artikel/2020/07/01/stor-blunder-av-tim-krul-nar-norwich-akte-pa-ny-forlust-teemu-pukki-fick-bara</td>\n",
       "    </tr>\n",
       "  </tbody>\n",
       "</table>\n",
       "</div>"
      ],
      "text/plain": [
       "                                                                                                                                                            Rubrik  \\\n",
       "0                                                                                                                           Ted & Kaj: Din mamma var en sköldpadda   \n",
       "1                                                                                                                                    Senaste nytt om coronaviruset   \n",
       "2        Jobb som bärplockare är ökänt för dåliga arbetsförhållanden men så ska det inte vara: \"Det är viktigt att alla behandlas lika oavsett varifrån de kommer\"   \n",
       "3                                                                                                               Preliminära uppgifter: Förlängt Putinstyre i sikte   \n",
       "4                                                                     Kommentar: Så länge ryssarna sväljer maktfullkomlighet och valfusk sitter Putin stadigt kvar   \n",
       "5                                                                                         Att vara kvinna och jägare är att våga ta plats och bevisa sin duglighet   \n",
       "6                                                            Trumps säkerhetsrådgivare: Uppgifter om ryska skottpengar så \"vaga\" att presidenten inte informerades   \n",
       "7                                        Tusentals Hongkongbor ute på gatorna i protest mot ny inskränkande lag - polisen grep människor med hänvisning till lagen   \n",
       "8  Coronarestriktionerna sätter sin prägel på sommarens evenemang, folksamlingar på över 500 personer tillåtna utomhus igen – läs det senaste om coronaviruset här   \n",
       "9                                                                 Stor blunder av Tim Krul när Norwich åkte på ny förlust – Teemu Pukki fick bara spela en halvlek   \n",
       "\n",
       "                                                                                                                         Länk  \n",
       "0                                                                                            https://arenan.yle.fi/1-50576822  \n",
       "1                                                                                          https://svenska.yle.fi/coronavirus  \n",
       "2   https://svenska.yle.fi/artikel/2020/07/01/jobb-som-barplockare-ar-okant-for-daliga-arbetsforhallanden-men-sa-ska-det-inte  \n",
       "3                          https://svenska.yle.fi/artikel/2020/07/01/forlangt-putinstyre-i-sikte-enligt-preliminara-uppgifter  \n",
       "4    https://svenska.yle.fi/artikel/2020/07/01/kommentar-sa-lange-ryssarna-svaljer-maktfullkomlighet-och-valfusk-sitter-putin  \n",
       "5          https://svenska.yle.fi/artikel/2020/07/01/att-vara-kvinna-och-jagare-ar-att-vaga-ta-plats-och-bevisa-sin-duglighet  \n",
       "6  https://svenska.yle.fi/artikel/2020/07/01/trumps-sakerhetsradgivare-uppgifter-om-ryska-skottpengar-sa-vaga-att-presidenten  \n",
       "7    https://svenska.yle.fi/artikel/2020/07/01/tusentals-hongkongbor-ute-pa-gatorna-i-protest-mot-ny-inskrankande-lag-polisen  \n",
       "8                                                                                          https://svenska.yle.fi/coronavirus  \n",
       "9     https://svenska.yle.fi/artikel/2020/07/01/stor-blunder-av-tim-krul-nar-norwich-akte-pa-ny-forlust-teemu-pukki-fick-bara  "
      ]
     },
     "execution_count": 13,
     "metadata": {},
     "output_type": "execute_result"
    }
   ],
   "source": [
    "pd.set_option('display.max_colwidth', None)\n",
    "nyheter.head(10)"
   ]
  },
  {
   "cell_type": "markdown",
   "metadata": {},
   "source": [
    "Man kan spara nyheterna t.ex. som en `csv` fil med `pandas` funktionen `to_csv()` ifall man tänker använda datan man skrapar från nätet till något mer. Man kan t.ex. räkna statistik om man skrapar numror, eller se hur nyhets rubriker förändras olika dagar om man skrapar nyheter. När man skriver tabllen till en fil behöver man inte bry sig om `max_colwidth`, all data kommer nog med ändå. "
   ]
  },
  {
   "cell_type": "code",
   "execution_count": 14,
   "metadata": {},
   "outputs": [],
   "source": [
    "nyheter.to_csv('nyheter.csv')"
   ]
  },
  {
   "cell_type": "markdown",
   "metadata": {},
   "source": [
    "Hela programmet blir att se ut så här:"
   ]
  },
  {
   "cell_type": "markdown",
   "metadata": {},
   "source": [
    "```\n",
    "import requests\n",
    "from bs4 import BeautifulSoup\n",
    "import pandas as pd\n",
    "\n",
    "yle = requests.get('https://svenska.yle.fi')\n",
    "soppa = BeautifulSoup(yle.content, 'html.parser')\n",
    "\n",
    "innehall = soppa.find('body')\n",
    "innehall_lankar = innehall.find_all('a')\n",
    "\n",
    "nyhetsrubriker = []\n",
    "nyhetslankar = []\n",
    "for lank in innehall_lankar:\n",
    "  rubrik = lank.find('h3')\n",
    "  if rubrik:\n",
    "    nyhetsrubriker.append(rubrik.text.strip())\n",
    "    nyhetslankar.append(lank.get('href'))\n",
    "\n",
    "nyheter = pd.DataFrame({'Rubrik': nyhetsrubriker, 'Länk': nyhetslankar})\n",
    "print(nyheter.head(10))\n",
    "\n",
    "nyheter.to_csv('yle_nyheter.csv')\n",
    "```"
   ]
  },
  {
   "cell_type": "markdown",
   "metadata": {},
   "source": [
    "I nästa kapitel visualiserar vi nyhtetsrubrikerna som ordmoln!"
   ]
  }
 ],
 "metadata": {
  "colab": {
   "collapsed_sections": [],
   "name": "X-webbskrapning.ipynb",
   "provenance": []
  },
  "kernelspec": {
   "display_name": "Python 3",
   "language": "python",
   "name": "python3"
  },
  "language_info": {
   "codemirror_mode": {
    "name": "ipython",
    "version": 3
   },
   "file_extension": ".py",
   "mimetype": "text/x-python",
   "name": "python",
   "nbconvert_exporter": "python",
   "pygments_lexer": "ipython3",
   "version": "3.6.10"
  }
 },
 "nbformat": 4,
 "nbformat_minor": 4
}
